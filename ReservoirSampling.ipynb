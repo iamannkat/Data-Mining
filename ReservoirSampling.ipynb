{
  "nbformat": 4,
  "nbformat_minor": 0,
  "metadata": {
    "colab": {
      "name": "ReservoirSampling.ipynb",
      "provenance": []
    },
    "kernelspec": {
      "name": "python3",
      "display_name": "Python 3"
    }
  },
  "cells": [
    {
      "cell_type": "markdown",
      "metadata": {
        "id": "hwQniqqsijO1"
      },
      "source": [
        "## Importing the libraries"
      ]
    },
    {
      "cell_type": "code",
      "metadata": {
        "id": "j4zA0bRAX-cg"
      },
      "source": [
        "import random\n",
        "import sys"
      ],
      "execution_count": null,
      "outputs": []
    },
    {
      "cell_type": "markdown",
      "metadata": {
        "id": "yXKSalWyipM4"
      },
      "source": [
        "## Reservoir Sampling"
      ]
    },
    {
      "cell_type": "code",
      "metadata": {
        "id": "IoEbMbFsYeY5"
      },
      "source": [
        "def selectKItems(stream, size_of_stream, size_of_sample):\n",
        "    i = 0\n",
        "    reservoir = [0] * size_of_sample\n",
        "    for i in range(size_of_sample):\n",
        "        reservoir[i] = stream[i]\n",
        "\n",
        "    while i < size_of_stream:\n",
        "        j = random.randrange(i + 1)\n",
        "        if j < size_of_sample:\n",
        "            reservoir[j] = stream[i]\n",
        "        i += 1\n",
        "\n",
        "    print(\"Results from reservoir sampling algorithm:\")\n",
        "    printArray(reservoir, size_of_sample)"
      ],
      "execution_count": null,
      "outputs": []
    },
    {
      "cell_type": "code",
      "metadata": {
        "id": "VhGoS9hRYZaY"
      },
      "source": [
        "def printArray(stream, size_of_stream):\n",
        "    for i in range(size_of_stream):\n",
        "        print(stream[i], end=\" \")\n",
        "    print()"
      ],
      "execution_count": null,
      "outputs": []
    },
    {
      "cell_type": "code",
      "metadata": {
        "colab": {
          "base_uri": "https://localhost:8080/"
        },
        "id": "3O5HvuStYf-H",
        "outputId": "91554580-301d-4c3f-eaff-d6aa8dfc5e4c"
      },
      "source": [
        "size_of_sample = 5\n",
        "filename = \"res.txt\"\n",
        "stream = open(filename, 'r')\n",
        "streamArr = stream.readline().split(' ')\n",
        "printArray(streamArr, len(streamArr))\n",
        "size_of_stream = len(streamArr)\n",
        "selectKItems(streamArr, size_of_stream, size_of_sample)"
      ],
      "execution_count": null,
      "outputs": [
        {
          "output_type": "stream",
          "text": [
            "1 2 3 4 5 6 7 8 9 10 11 12 \n",
            "Results from reservoir sampling algorithm:\n",
            "1 6 10 4 5 \n"
          ],
          "name": "stdout"
        }
      ]
    },
    {
      "cell_type": "markdown",
      "metadata": {
        "id": "_trM82w3iUBr"
      },
      "source": [
        "## Weighted Reservoir Sampling"
      ]
    },
    {
      "cell_type": "code",
      "metadata": {
        "id": "pfjAneEkjwVe"
      },
      "source": [
        "def selectKItems(stream,W,weights, size_of_stream, size_of_sample):\n",
        "    i = 0\n",
        "    reservoir = [0] * size_of_sample\n",
        "    for i in range(size_of_sample):\n",
        "        reservoir[i] = stream[i]\n",
        "\n",
        "    while i < size_of_stream:\n",
        "        j = random.randrange(i + 1)\n",
        "        w = weights[j]\n",
        "        if w < size_of_sample:\n",
        "            reservoir[j] = stream[i]\n",
        "        i += 1\n",
        "\n",
        "    print(\"Results from weighted reservoir sampling algorithm:\")\n",
        "    printArray(reservoir, size_of_sample)"
      ],
      "execution_count": null,
      "outputs": []
    },
    {
      "cell_type": "code",
      "metadata": {
        "colab": {
          "base_uri": "https://localhost:8080/"
        },
        "id": "oS4Fo7vAiO4n",
        "outputId": "1039424a-47d7-476b-bb74-64b9761cf06f"
      },
      "source": [
        "size_of_sample = 10\n",
        "filename = \"res.txt\"\n",
        "stream = open(filename, 'r')\n",
        "streamArr = stream.readline().split(' ')\n",
        "size_of_stream = len(streamArr)\n",
        "printArray(streamArr, len(streamArr))\n",
        "weights = [0.5, 0.7, 0.4, 0.3, 0.2, 0.8, 0.1, 0.4, 0.5, 0.4, 0.9, 0.1]\n",
        "W = 0\n",
        "for i in range(len(weights)):\n",
        "  W = W + weights[i]\n",
        "selectKItems(streamArr, W, weights, size_of_stream, size_of_sample)"
      ],
      "execution_count": null,
      "outputs": [
        {
          "output_type": "stream",
          "text": [
            "1 2 3 4 5 6 7 8 9 10 11 12 \n",
            "Results from weighted reservoir sampling algorithm:\n",
            "1 2 3 11 5 12 7 8 10 10 \n"
          ],
          "name": "stdout"
        }
      ]
    }
  ]
}