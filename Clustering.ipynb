{
  "nbformat": 4,
  "nbformat_minor": 0,
  "metadata": {
    "colab": {
      "name": "Clustering.ipynb",
      "provenance": [],
      "collapsed_sections": []
    },
    "kernelspec": {
      "display_name": "Python 3",
      "name": "python3"
    }
  },
  "cells": [
    {
      "cell_type": "markdown",
      "metadata": {
        "id": "WSXojQGorLre"
      },
      "source": [
        "\n",
        "# Clustering"
      ]
    },
    {
      "cell_type": "markdown",
      "metadata": {
        "id": "vT1BqUtvzFs3"
      },
      "source": [
        "Importing the Libraries"
      ]
    },
    {
      "cell_type": "code",
      "metadata": {
        "colab": {
          "base_uri": "https://localhost:8080/"
        },
        "id": "EqHHLzrSLtnA",
        "outputId": "6a4aa349-b294-4314-c5e6-0728d0433f56"
      },
      "source": [
        "import pandas as pd\n",
        "import numpy as np\n",
        "import csv\n",
        "from scipy.sparse import csr_matrix\n",
        "import sklearn.metrics as metrics\n",
        "import sklearn.datasets as sk_data\n",
        "from google.colab import drive\n",
        "from sklearn.datasets import make_blobs\n",
        "import sklearn.feature_extraction.text as sk_text\n",
        "import sklearn.cluster as sk_cluster\n",
        "drive.mount('/content/gdrive')\n"
      ],
      "execution_count": null,
      "outputs": [
        {
          "output_type": "stream",
          "text": [
            "Drive already mounted at /content/gdrive; to attempt to forcibly remount, call drive.mount(\"/content/gdrive\", force_remount=True).\n"
          ],
          "name": "stdout"
        }
      ]
    },
    {
      "cell_type": "markdown",
      "metadata": {
        "id": "1YMCfqQjzJXc"
      },
      "source": [
        "Importing and setting up the dataframes"
      ]
    },
    {
      "cell_type": "code",
      "metadata": {
        "id": "ViNhemyBGVx4"
      },
      "source": [
        "from io import StringIO\n",
        "#import ijson\n",
        "number_of_lines = 10000\n",
        "json_lines = []\n",
        "user = pd.DataFrame()\n",
        "\n",
        "f =  open('/content/gdrive/MyDrive/yelp_academic_dataset_review.json' , 'r')\n",
        "\n",
        "while True:\n",
        "    \n",
        "  for i in range(number_of_lines):\n",
        "        \n",
        "    line = f.readline()\n",
        "    json_lines.append(line)\n",
        "\n",
        "  json_str = ''.join(json_lines)\n",
        "  temp = pd.read_json(StringIO(json_str), encoding = 'utf8', lines=True) \n",
        "\n",
        "  if len(temp) == 0 :\n",
        "    break\n",
        "  #print(type(temp))\n",
        "  print(temp)\n",
        "  user = user.append(temp)\n",
        "  json_lines.clear()\n",
        "\n",
        "print(len(user))\n",
        "#user.head()"
      ],
      "execution_count": null,
      "outputs": []
    },
    {
      "cell_type": "code",
      "metadata": {
        "id": "qOqRrsqHL0U6"
      },
      "source": [
        "business = pd.read_json('/content/gdrive/MyDrive/small/yelp_academic_dataset_business.json',encoding = 'utf8', lines=True) \n",
        "\n",
        "dataToronto_bus = business.loc[business['city'] == 'Phoenix']\n",
        "\n",
        "dataToronto3 = dataToronto_bus.loc[dataToronto_bus['review_count'] >= 10]\n",
        "\n",
        "selection = ['Beauty & Spas', 'Shopping' ,'Bars']\n",
        "dataToronto3 = dataToronto3[pd.DataFrame(dataToronto3.categories.tolist()).isin(selection).any(1).values]"
      ],
      "execution_count": null,
      "outputs": []
    },
    {
      "cell_type": "code",
      "metadata": {
        "id": "rxaHUW_yUess",
        "colab": {
          "base_uri": "https://localhost:8080/",
          "height": 195
        },
        "outputId": "fab7aa22-b0c3-49f8-e08a-168d3956290e"
      },
      "source": [
        "user = pd.read_json('/content/gdrive/MyDrive/small/yelp_academic_dataset_review.json',encoding = 'utf8', lines=True) \n",
        "user.head()"
      ],
      "execution_count": null,
      "outputs": [
        {
          "output_type": "execute_result",
          "data": {
            "text/html": [
              "<div>\n",
              "<style scoped>\n",
              "    .dataframe tbody tr th:only-of-type {\n",
              "        vertical-align: middle;\n",
              "    }\n",
              "\n",
              "    .dataframe tbody tr th {\n",
              "        vertical-align: top;\n",
              "    }\n",
              "\n",
              "    .dataframe thead th {\n",
              "        text-align: right;\n",
              "    }\n",
              "</style>\n",
              "<table border=\"1\" class=\"dataframe\">\n",
              "  <thead>\n",
              "    <tr style=\"text-align: right;\">\n",
              "      <th></th>\n",
              "      <th>votes</th>\n",
              "      <th>user_id</th>\n",
              "      <th>review_id</th>\n",
              "      <th>stars</th>\n",
              "      <th>date</th>\n",
              "      <th>text</th>\n",
              "      <th>type</th>\n",
              "      <th>business_id</th>\n",
              "    </tr>\n",
              "  </thead>\n",
              "  <tbody>\n",
              "    <tr>\n",
              "      <th>0</th>\n",
              "      <td>{'funny': 0, 'useful': 5, 'cool': 2}</td>\n",
              "      <td>rLtl8ZkDX5vH5nAx9C3q5Q</td>\n",
              "      <td>fWKvX83p0-ka4JS3dc6E5A</td>\n",
              "      <td>5</td>\n",
              "      <td>2011-01-26</td>\n",
              "      <td>My wife took me here on my birthday for breakf...</td>\n",
              "      <td>review</td>\n",
              "      <td>9yKzy9PApeiPPOUJEtnvkg</td>\n",
              "    </tr>\n",
              "    <tr>\n",
              "      <th>1</th>\n",
              "      <td>{'funny': 0, 'useful': 0, 'cool': 0}</td>\n",
              "      <td>0a2KyEL0d3Yb1V6aivbIuQ</td>\n",
              "      <td>IjZ33sJrzXqU-0X6U8NwyA</td>\n",
              "      <td>5</td>\n",
              "      <td>2011-07-27</td>\n",
              "      <td>I have no idea why some people give bad review...</td>\n",
              "      <td>review</td>\n",
              "      <td>ZRJwVLyzEJq1VAihDhYiow</td>\n",
              "    </tr>\n",
              "    <tr>\n",
              "      <th>2</th>\n",
              "      <td>{'funny': 0, 'useful': 1, 'cool': 0}</td>\n",
              "      <td>0hT2KtfLiobPvh6cDC8JQg</td>\n",
              "      <td>IESLBzqUCLdSzSqm0eCSxQ</td>\n",
              "      <td>4</td>\n",
              "      <td>2012-06-14</td>\n",
              "      <td>love the gyro plate. Rice is so good and I als...</td>\n",
              "      <td>review</td>\n",
              "      <td>6oRAC4uyJCsJl1X0WZpVSA</td>\n",
              "    </tr>\n",
              "    <tr>\n",
              "      <th>3</th>\n",
              "      <td>{'funny': 0, 'useful': 2, 'cool': 1}</td>\n",
              "      <td>uZetl9T0NcROGOyFfughhg</td>\n",
              "      <td>G-WvGaISbqqaMHlNnByodA</td>\n",
              "      <td>5</td>\n",
              "      <td>2010-05-27</td>\n",
              "      <td>Rosie, Dakota, and I LOVE Chaparral Dog Park!!...</td>\n",
              "      <td>review</td>\n",
              "      <td>_1QQZuf4zZOyFCvXc0o6Vg</td>\n",
              "    </tr>\n",
              "    <tr>\n",
              "      <th>4</th>\n",
              "      <td>{'funny': 0, 'useful': 0, 'cool': 0}</td>\n",
              "      <td>vYmM4KTsC8ZfQBg-j5MWkw</td>\n",
              "      <td>1uJFq2r5QfJG_6ExMRCaGw</td>\n",
              "      <td>5</td>\n",
              "      <td>2012-01-05</td>\n",
              "      <td>General Manager Scott Petello is a good egg!!!...</td>\n",
              "      <td>review</td>\n",
              "      <td>6ozycU1RpktNG2-1BroVtw</td>\n",
              "    </tr>\n",
              "  </tbody>\n",
              "</table>\n",
              "</div>"
            ],
            "text/plain": [
              "                                  votes  ...             business_id\n",
              "0  {'funny': 0, 'useful': 5, 'cool': 2}  ...  9yKzy9PApeiPPOUJEtnvkg\n",
              "1  {'funny': 0, 'useful': 0, 'cool': 0}  ...  ZRJwVLyzEJq1VAihDhYiow\n",
              "2  {'funny': 0, 'useful': 1, 'cool': 0}  ...  6oRAC4uyJCsJl1X0WZpVSA\n",
              "3  {'funny': 0, 'useful': 2, 'cool': 1}  ...  _1QQZuf4zZOyFCvXc0o6Vg\n",
              "4  {'funny': 0, 'useful': 0, 'cool': 0}  ...  6ozycU1RpktNG2-1BroVtw\n",
              "\n",
              "[5 rows x 8 columns]"
            ]
          },
          "metadata": {
            "tags": []
          },
          "execution_count": 25
        }
      ]
    },
    {
      "cell_type": "code",
      "metadata": {
        "id": "27SFtnTB6WQG"
      },
      "source": [
        "dataToronto3.head()"
      ],
      "execution_count": null,
      "outputs": []
    },
    {
      "cell_type": "markdown",
      "metadata": {
        "id": "zzJFCJfvrXul"
      },
      "source": [
        "## Organize the data - preprocessing"
      ]
    },
    {
      "cell_type": "markdown",
      "metadata": {
        "id": "2F3WO5_GVjGR"
      },
      "source": [
        "\n",
        "\n",
        "The code below creates a corpus. For every business I collect the text reviews from every user as a list of strings -where every element is the entire review text for that perticular business."
      ]
    },
    {
      "cell_type": "markdown",
      "metadata": {
        "id": "BjEO9bh3IUQ_"
      },
      "source": [
        "The list will keep a series of numbers [0,1,2], where every number represents a cluster - category.\n",
        "\n",
        "1.   \"0\" : BARS\n",
        "2.   \"1\" : BEAUTY AND SPAS\n",
        "3.   \"2\" : SHOPPING\n",
        "\n",
        "I will use this list to calculate the confusion matrix."
      ]
    },
    {
      "cell_type": "code",
      "metadata": {
        "id": "IslGG88Mp_Uo",
        "colab": {
          "base_uri": "https://localhost:8080/"
        },
        "outputId": "f64ea186-db29-40d9-ad85-193f880038b2"
      },
      "source": [
        "filenames = []\n",
        "true_labels = []\n",
        "\n",
        "for index,row in dataToronto3.iterrows(): \n",
        "\n",
        "  bus_data = user.loc[user['business_id'] == row[0]]\n",
        "  review_texts = pd.DataFrame(columns = ['texts'])\n",
        "  review_texts['texts'] = bus_data['text']\n",
        "  filename = row[7] \n",
        "\n",
        "  if \"/\" in filename:\n",
        "    filename = filename.replace('/', '|')\n",
        "\n",
        "  if \"Bars\" in row[4]: \n",
        "    true_labels.append(0)\n",
        "\n",
        "  elif \"Beauty & Spas\" in row[4]:\n",
        "    true_labels.append(1)\n",
        "\n",
        "  elif \"Shopping\" in row[4]:\n",
        "    true_labels.append(2)\n",
        "\n",
        "  review_texts.to_csv(filename,index=False,header=False)\n",
        "  filenames.append(filename)    \n",
        "  "
      ],
      "execution_count": null,
      "outputs": [
        {
          "output_type": "stream",
          "text": [
            "Walgreens\n",
            "Williams-Sonoma\n",
            "Armadillo Grill\n",
            "The Roosevelt\n",
            "Berridge Nurseries\n",
            "The Home Depot\n",
            "Bashas\n",
            "Party City of Paradise Valley\n",
            "Arcadia Tavern\n",
            "The Bee's Knees\n",
            "Bliss ReBAR\n",
            "Half Moon Sports Grill\n",
            "Barfly\n",
            "Vien Nails & Spa\n",
            "Gallagher's\n",
            "Pro Nails by Tina\n",
            "Gentleman Joe's Barber Shop\n",
            "Capri Nails\n",
            "Park Central Mall\n",
            "Target\n",
            "Le Le Nails\n",
            "Islands Restaurant\n",
            "Target Stores\n",
            "Paperjoy\n",
            "Costco\n",
            "Tim Finnegan's Irish Restaurant and Pub\n",
            "Zipps Sports Grill\n",
            "The Duce\n",
            "Padre's Modern Mexican Cuisine\n",
            "Community Florist\n",
            "Clarendon Kitchen + Bar C4\n",
            "The Paper Heart Gallery\n",
            "Walmart\n",
            "Copenhagen Imports\n",
            "Above and Beyond Nails\n",
            "Astor House\n",
            "Bar Bianco\n",
            "Homme\n",
            "Carly's Bistro\n",
            "Sports Authority\n",
            "The Ruby Room\n",
            "Saks Fifth Avenue\n",
            "Ulta Salon Cosmetics & Fragrance\n",
            "Queen Nails & Spa\n",
            "Bed Bath & Beyond\n",
            "MADE Art Boutique\n",
            "Bunky Boutique\n",
            "Desert Ridge Marketplace\n",
            "Fry's Food & Drug Stores & Fry's Marketplace\n",
            "The Icehouse\n",
            "DH La Nails\n",
            "Connolly's Sports Grill\n",
            "The Turf\n",
            "Bailey's Pub\n",
            "Delux\n",
            "Dick's Sporting Goods\n",
            "Go-Kat-Go\n",
            "Central Phoenix Eye Care\n",
            "Revive Spa\n",
            "Native New Yorker\n",
            "George & Dragon II English Restaurant Pub\n",
            "Flowers by Jodi\n",
            "Turtle's Treasures\n",
            "Jt's Bar & Grill\n",
            "Practical Art\n",
            "MercBar\n",
            "Cash Inn Country\n",
            "Loft Again\n",
            "Native New Yorker\n",
            "The Nash\n",
            "The Whining Pig\n",
            "Sears Outlet\n",
            "V's Barbershop\n",
            "Charlie's\n",
            "CVS/pharmacy\n",
            "Urban Outfitters\n",
            "Crescent Ballroom\n",
            "Pretty Nails and Spa\n",
            "Fresh & Easy Neighborhood Market\n",
            "Jackson's On 3rd\n",
            "Massage Envy Camelback\n",
            "DSW Designer Shoe Warehouse\n",
            "Wink Facial and Lash Bar\n",
            "Lustre Bar\n",
            "Sochu House\n",
            "Bella Nails\n",
            "Stacy's @ Melrose\n",
            "Burland Jewelry Center\n",
            "Phoenix Metro Retro\n",
            "Superstar Video\n",
            "LensCrafters\n",
            "CityNorth\n",
            "Kobalt\n",
            "Paradise Valley Mall\n",
            "PureSalon\n",
            "Walmart\n",
            "Cost Plus World Market\n",
            "JT Aesthetics\n",
            "Sage Organic Skin Care\n",
            "Bed Bath & Beyond\n",
            "Target\n",
            "Cheap Thrills\n",
            "Paulene Nails\n",
            "Nu Towne Saloon\n",
            "Desert Song Healing Arts Center\n",
            "Biagio Nail & Spa\n",
            "Gallo Blanco\n",
            "Easley's Fun Shop\n",
            "Party City\n",
            "SunUp Brewing Co\n",
            "JCPenney\n",
            "Marshalls\n",
            "Albertsons-Osco\n",
            "Best Buy\n",
            "Roscoes On Seventh\n",
            "Smeeks\n",
            "The Vig\n",
            "Half Price Books Records Magazines\n",
            "Hollywood Regency Vintage\n",
            "Melrose Vintage\n",
            "Sweets & Beats\n",
            "Bootleggers Modern American Smokehouse\n",
            "Dave & Buster's\n",
            "Sophie's French Bistro\n",
            "Buffalo Wild Wings\n",
            "The Breadfruit\n",
            "The Watch Repair Company\n",
            "Cost Plus World Market\n",
            "Charming Charlie - Phoenix\n",
            "Ross Dress For Less\n",
            "C & S Sporting Goods\n",
            "Michaels Arts & Crafts\n",
            "O'Brien's Sports Bar\n",
            "Arizona Art Supply\n",
            "Zinnias at Melrose\n",
            "Walmart\n",
            "Angels Trumpet Ale House\n",
            "Bookmans Entertainment Exchange\n",
            "The Restaurant Depot\n",
            "All About Books & Comics\n",
            "Red Onion Lounge & Restaurant\n",
            "32 Shea\n",
            "Moriah II Nail & Spa\n",
            "Qcumberz\n",
            "Karamba Nightclub\n",
            "Landis Cyclery\n",
            "Shady's\n",
            "All Stars Sports Bar\n",
            "Stinkweeds Record Exchange\n",
            "Bertie's of Arcadia\n",
            "The Shops at Norterra\n",
            "Poor Little Rich Girl\n",
            "Sport Peppers Grill\n",
            "Santisi Brothers\n",
            "V-K Elle Nails\n",
            "lululemon athletica\n",
            "Ide Mania\n",
            "Goodwill of Central Arizona\n",
            "Boxers Men's Salon Ltd\n",
            "Macy's\n",
            "Walt's Ace Hardware & Plumbing Supply\n",
            "Savers\n",
            "Circle 6 Studios\n",
            "Wright Bar\n",
            "Switch Restaurant & Wine Bar\n",
            "Tracks In Wax\n",
            "Macy's\n",
            "Ice House Tavern\n",
            "Costco Wholesale\n",
            "My Sister's Closet\n",
            "The Vig Fillmore\n",
            "Butter Toast Boutique\n",
            "A-Town Grill & Eatery\n",
            "Harvey's Wineburger\n",
            "Daily Dose Midtown\n",
            "Apollo's Lounge\n",
            "Safeway\n",
            "Sun Cyclery\n",
            "Barber Parlor\n",
            "Hanny's\n",
            "Legends Sports Bar & Restaurant\n",
            "Flo's on 7th\n",
            "Swizzle Inn\n",
            "Four Peaks Brewing Company\n",
            "Try Me Bicycle Shop\n",
            "Barnes & Noble Booksellers\n",
            "SideBar\n",
            "Original Hamburger Works\n",
            "Twins Barber Shop\n",
            "The Home Depot\n",
            "Az Music\n",
            "Paradise Nails\n",
            "Figs Home & Garden\n",
            "Alice Cooper'stown\n",
            "nextDOOR\n",
            "Massage Envy Spa Desert Ridge\n",
            "The Office Salon\n",
            "Hooters\n",
            "Kohl's Department Stores\n",
            "JCPenney\n",
            "Dodey's Bar\n",
            "Duck & Decanter\n",
            "Brad's Place\n",
            "Quiessence Restaurant\n",
            "The Lost Leaf\n",
            "Ammaccapane's Restaurant & Sports Bar\n",
            "Summer Winds Nursery\n",
            "Sas Fabrics By the Pound\n",
            "ICON Lounge\n",
            "Silver Wine & Martini Bar\n",
            "Zia Record Exchange\n",
            "Sutra Midtown\n",
            "Gallagher's Sports Grill\n",
            "Costco\n",
            "Bards Books\n",
            "Feeney's Restaurant and Bar\n",
            "Toso's Bar and Restaurant\n",
            "Tangible Tanning & Fitness\n",
            "Princess Nails\n",
            "Ole Brass Rail\n",
            "Primp and Blow - A Blow Dry Bar\n",
            "Apple Store\n",
            "My Nail Salon\n",
            "Fry's Food & Drug Stores & Fry's Marketplace\n",
            "Buffalo Exchange\n",
            "Pomeroy's\n",
            "Sassy Glasses\n",
            "Jo-Ann Stores\n",
            "UNION Biltmore\n",
            "Bomberos Cafe & Wine Bar\n",
            "Red Hot Robot\n",
            "The Keg Steakhouse + Bar\n",
            "Biltmore Fashion Park\n",
            "European Wax Center\n",
            "J & K Furniture\n",
            "Deer Valley Rock Art Center\n",
            "Baker Nursery\n",
            "The Rock\n",
            "Tilted Kilt Pub & Eatery\n",
            "Pallets Food and Bar\n",
            "Ross Stores\n",
            "European Wax Center\n",
            "Costco\n",
            "Penzey's Spices\n",
            "ABC Baking Cake Decorating Supplies\n",
            "Portland's Restaurant & Wine Bar\n",
            "Urban Wax\n",
            "Cheuvront\n",
            "Ken's Nails and Spa\n",
            "COFCO Chinese Culture Center\n",
            "Copper Blues\n",
            "HB Hanratty's\n",
            "European Wax Center\n",
            "Lowe's Home Improvement Warehouse\n",
            "Christos Ristorante\n",
            "Squid Ink Sushi\n",
            "Amsterdam\n",
            "Batteries Plus\n",
            "Hazelwoods First Place Sports Grill\n",
            "PaperCrazy\n",
            "Barnes & Noble Booksellers\n",
            "Red Modern Furniture\n",
            "Walmart Supercenter\n",
            "Phoenix Spectrum Mall\n",
            "Bikini Lounge\n",
            "Rips Bar\n",
            "Philthy Phil's\n",
            "Walmart\n",
            "Fox News Sky Box\n",
            "Sports Authority\n",
            "TJ Maxx\n",
            "Dizzy's Sports Pub\n",
            "First Class Reflexology\n",
            "Ghost Lounge\n",
            "Brigett's Last Laugh\n",
            "Ace Hardware\n",
            "The Grind\n",
            "The Home Depot\n",
            "The Attic\n",
            "FilmBar\n",
            "Boutique Solie\n",
            "Chez Nous\n",
            "Sienna Nails\n",
            "Public House Garage\n",
            "Garage Wine and Tap\n",
            "Va Bene\n",
            "Chick Rotisserie & Wine Bar\n",
            "Off Chute Too\n",
            "Paris Envy\n",
            "Drybar\n",
            "Kens Nails & Spa\n",
            "Sun Cellular\n",
            "Aspire Salon & Spa Inc\n",
            "Windsor\n",
            "Savers\n",
            "Culinary Dropout\n",
            "Dilly Dally Lounge\n",
            "Fancy Nails\n",
            "Urban Beans\n",
            "Target\n",
            "Gallagher's\n",
            "UFO - Universal Furnishings and Offerings\n",
            "The Hidden House Cocktail Lounge\n",
            "Arizona Center\n",
            "AT&T\n",
            "The Lounge\n",
            "Sport Clips\n",
            "Uncle Bear's Brewhouse Grill\n",
            "Costco\n",
            "Big Lots\n",
            "French Method Salon\n",
            "Blue Martini Lounge\n",
            "Target\n",
            "Fancy Nails & Tanning\n",
            "Dubliner\n",
            "Hooters\n",
            "Taberna del Tequila\n",
            "Arizona Biltmore Resort & Spa\n",
            "Home Fabrics\n",
            "Bar Maximus\n",
            "Top Design Nails\n",
            "Marshalls-Mega\n",
            "Melrose Pharmacy\n",
            "Dillard's\n",
            "Arizona Hiking Shack\n",
            "Modern Margarita\n",
            "Home Turf Bar\n",
            "Keegan's Grill\n",
            "The Rose and Crown\n",
            "CityScape\n",
            "Best Buy\n",
            "Black Angus Steakhouse\n",
            "Goodwill\n",
            "Taberna Del Tequileria\n",
            "GROWop\n",
            "Grand Avenue Tavern\n",
            "The Bunkhouse Lounge\n",
            "Seamus McCaffrey's\n",
            "Postino Arcadia\n",
            "Target\n",
            "McFadden's Saloon & Restaurant - Desert Ridge\n",
            "Verizon Wireless\n",
            "Curiouser and Curiouser\n",
            "Crudo\n",
            "Majerle's Sports Grill\n",
            "Lucky Strike\n",
            "The Trunk Space\n",
            "Costco Phoenix Business Center\n",
            "Conspire\n",
            "MAC Cosmetics\n",
            "Upper Crust Pizza\n",
            "Walmart\n",
            "Coach & Willies\n",
            "Arizona Science Center\n",
            "Half Moon Sports Grill\n",
            "David's Bridal\n",
            "Dv Nail Salon\n",
            "Joann Craft Superstore\n",
            "Ski Pro\n",
            "Modified Arts\n",
            "Valentina's Bridal & Tailors\n",
            "Whitfill Nursery\n",
            "Royal Palms Resort and Spa\n",
            "Sliders American Grill\n",
            "Borders\n",
            "Samurai Comics\n",
            "Frances\n",
            "Rosie McCaffrey's\n",
            "Antique Sugar\n",
            "Best Buy\n",
            "Ashley Nails & Spa\n",
            "Nordstrom Rack\n",
            "Hoot Owl\n",
            "Retro Redux\n",
            "Elle Nails\n",
            "Goodfellas Cigars\n",
            "Bleachers Sports Grill\n",
            "The Arrogant Butcher\n",
            "Networks Bar & Grill\n",
            "REI\n",
            "The Bernina Connection\n",
            "Babies R US the Baby Superstore\n",
            "Princess Pro Nail\n",
            "Eye Lounge\n",
            "Postino Central\n",
            "Comeley Nails\n",
            "CK's Tavern & Grill\n",
            "White Dove Thrift Shoppe\n",
            "The Little Woody\n",
            "Central Grille\n",
            "Glow Skin & Body Studio\n",
            "Lux\n",
            "Biagio Nail & Spa\n",
            "JCPenney\n",
            "Arizona Biltmore Spa\n",
            "Casey Jones Grill\n",
            "Islands Restaurant\n",
            "Rogue West\n",
            "Trailhead Bike Shop and Cafe\n",
            "Valle Luna\n",
            "Gypsy Bar\n",
            "The Secret Village\n",
            "Anthony Lee Nails\n",
            "Babies R US the Baby Superstore\n",
            "European Wax Center\n",
            "FEZ\n",
            "Desert Nail Spa\n",
            "Christopher's Restaurant/Crush Lounge\n",
            "Friends\n",
            "The Recovery Room\n",
            "Nori Sushi and Asian Kitchen\n",
            "Haus\n",
            "Retro Ranch\n",
            "Revolver Records\n",
            "Slippery Pig Bicycles\n",
            "CVS Pharmacy\n",
            "Toy Anxiety\n",
            "Bar Smith\n",
            "16th Street Sports Bar & Grill\n",
            "Del Frisco's Grille\n",
            "RoadRunner Sports\n",
            "Queen Creek Olive Mill Trattoria\n",
            "Charming Charlie - Phoenix\n",
            "Fry's Food Store\n",
            "The Clarendon Hotel\n",
            "Royale Lounge\n",
            "Rum Bar\n",
            "Half Price Books Records Magazines\n",
            "Last Chance Bargain Shoes & Apparel\n",
            "Ocean Luxury Nail and Spa\n",
            "Central Nails\n",
            "Container Store\n",
            "Kitchen Switchin'\n"
          ],
          "name": "stdout"
        }
      ]
    },
    {
      "cell_type": "code",
      "metadata": {
        "id": "4qa3wnt7z4_G",
        "colab": {
          "base_uri": "https://localhost:8080/"
        },
        "outputId": "f3e8f2c5-bc7e-48cb-b2db-3708151084d6"
      },
      "source": [
        "true_labels = np.array(true_labels)\n",
        "\n",
        "print(true_labels)"
      ],
      "execution_count": null,
      "outputs": [
        {
          "output_type": "stream",
          "text": [
            "[1 2 0 0 2 2 2 2 0 2 0 0 0 1 0 1 1 1 2 2 1 0 2 2 2 0 0 0 0 2 0 0 2 2 1 0 0\n",
            " 0 0 2 0 2 1 1 2 2 2 2 2 2 1 0 0 0 0 2 2 2 1 0 0 2 2 0 2 0 0 0 0 2 0 2 1 0\n",
            " 2 2 0 1 2 0 1 2 1 0 0 1 0 2 2 2 2 2 0 2 1 2 2 1 1 2 2 2 1 0 1 1 0 2 2 0 2\n",
            " 2 2 2 0 2 0 2 2 2 2 0 0 0 0 0 2 2 2 2 2 2 0 2 2 2 0 2 2 2 0 0 1 2 0 2 0 0\n",
            " 2 2 2 2 0 0 1 2 1 2 1 2 2 2 2 0 0 2 2 0 2 2 0 2 0 0 0 0 2 2 1 0 0 2 0 0 2\n",
            " 2 0 0 1 2 2 1 2 0 0 1 1 0 2 2 0 0 0 0 0 0 2 2 0 0 2 1 0 2 2 0 0 1 1 0 1 2\n",
            " 1 2 2 0 2 2 2 0 2 0 2 1 2 2 2 0 0 0 2 1 2 2 2 0 1 0 1 2 0 0 1 2 0 0 0 2 0\n",
            " 2 2 2 2 2 0 0 0 2 0 2 2 0 1 0 0 2 0 2 0 0 1 0 1 0 0 0 0 2 2 1 1 2 1 0 2 0\n",
            " 0 1 0 2 0 2 0 2 2 0 1 0 2 2 1 0 2 1 0 0 0 1 2 0 1 2 2 2 2 0 0 0 0 2 2 0 2\n",
            " 0 2 0 0 0 0 2 0 2 2 0 0 0 2 2 2 1 0 2 0 2 0 2 1 2 2 2 2 2 1 0 2 2 2 0 2 2\n",
            " 1 2 0 2 1 2 0 0 0 2 2 2 1 2 0 1 0 2 0 0 1 0 1 2 1 0 0 0 2 0 0 2 1 2 1 0 1\n",
            " 0 0 0 0 2 2 2 2 2 2 0 0 0 2 0 2 2 1 0 0 2 2 1 1 2 2]\n"
          ],
          "name": "stdout"
        }
      ]
    },
    {
      "cell_type": "markdown",
      "metadata": {
        "id": "TdzTPnRowd1T"
      },
      "source": [
        "\n",
        "Implementation of corpus, whixh is a list where every element is all of the test reviews of that specific business."
      ]
    },
    {
      "cell_type": "code",
      "metadata": {
        "id": "qd0sXzoUvFLp",
        "colab": {
          "base_uri": "https://localhost:8080/"
        },
        "outputId": "6dff1d98-a4ed-47ca-a019-9d380f6b623f"
      },
      "source": [
        "corpus = []\n",
        "temp_doc = []\n",
        "for fil in filenames:\n",
        "  with open(fil, 'r') as csv_file:\n",
        "    csv_reader = csv.reader(csv_file)\n",
        "\n",
        "    for line in csv_reader: \n",
        "      \n",
        "      temp_str = ''.join(line)\n",
        "      temp_doc.append(temp_str)\n",
        "\n",
        "  doc_string = ''.join(temp_doc)\n",
        "  corpus.append(doc_string)\n",
        "  temp_doc.clear()\n",
        "\n",
        "print(len(corpus))\n",
        "            "
      ],
      "execution_count": null,
      "outputs": [
        {
          "output_type": "stream",
          "text": [
            "433\n"
          ],
          "name": "stdout"
        }
      ]
    },
    {
      "cell_type": "markdown",
      "metadata": {
        "id": "FD-BJX-if-0K"
      },
      "source": [
        "tf-idf representation of the businesses."
      ]
    },
    {
      "cell_type": "code",
      "metadata": {
        "id": "kvQDaT9Igw7U",
        "colab": {
          "base_uri": "https://localhost:8080/"
        },
        "outputId": "cb11f51c-ee45-4843-fca9-1c82cb5e4717"
      },
      "source": [
        "vectorizer = sk_text.TfidfVectorizer(stop_words = 'english', min_df=10)\n",
        "X = vectorizer.fit_transform(corpus)\n",
        "print(X.toarray())\n",
        "print (vectorizer.get_feature_names())"
      ],
      "execution_count": null,
      "outputs": [
        {
          "output_type": "stream",
          "text": [
            "[[0.         0.         0.         ... 0.         0.         0.        ]\n",
            " [0.         0.         0.         ... 0.         0.         0.        ]\n",
            " [0.01215763 0.         0.         ... 0.         0.         0.        ]\n",
            " ...\n",
            " [0.         0.         0.         ... 0.         0.         0.        ]\n",
            " [0.         0.         0.         ... 0.         0.         0.        ]\n",
            " [0.         0.         0.         ... 0.         0.         0.        ]]\n",
            "['00', '000', '00pm', '07', '08', '09', '10', '100', '1000', '101', '10am', '10pm', '11', '110', '115', '11am', '11pm', '12', '120', '13', '14', '15', '150', '16', '16th', '17', '18', '180', '19', '19th', '1am', '1pm', '1st', '20', '200', '2000', '2006', '2007', '2008', '2009', '2010', '2011', '2012', '21', '21st', '22', '23', '24', '25', '26', '27', '28', '29', '2am', '2nd', '2pm', '2x', '30', '300', '30am', '30pm', '30s', '31', '32', '35', '36', '39', '3pm', '3rd', '40', '400', '40s', '42', '45', '48', '49', '4pm', '4th', '50', '500', '55', '5pm', '5th', '60', '600', '65', '6pm', '6th', '70', '70s', '75', '79', '7pm', '7th', '80', '80s', '8pm', '8th', '90', '90s', '95', '99', '9pm', 'aback', 'abandoned', 'abilities', 'ability', 'able', 'abound', 'absinthe', 'absolute', 'absolutely', 'absurd', 'abundance', 'abundant', 'ac', 'accent', 'accents', 'accept', 'acceptable', 'accepted', 'access', 'accessible', 'accessories', 'accessory', 'accident', 'accidentally', 'accommodate', 'accommodated', 'accommodating', 'accomodate', 'accomodating', 'accompanied', 'accompaniment', 'accompany', 'accompanying', 'according', 'accordingly', 'account', 'accounts', 'accurate', 'accustomed', 'ace', 'achieve', 'acid', 'acknowledge', 'acknowledged', 'acoustic', 'acoustics', 'acrylic', 'act', 'acted', 'acting', 'action', 'active', 'activities', 'activity', 'acts', 'actual', 'actually', 'ad', 'adam', 'adams', 'add', 'added', 'addicted', 'addicting', 'addiction', 'addictive', 'adding', 'addition', 'additional', 'additionally', 'additions', 'address', 'addressed', 'adds', 'adequate', 'adjacent', 'adjust', 'adjusted', 'admire', 'admission', 'admit', 'admitted', 'admittedly', 'adorable', 'adore', 'adorned', 'adult', 'adults', 'advance', 'advantage', 'adventure', 'adventurous', 'advertise', 'advertised', 'advertising', 'advice', 'advise', 'advised', 'aesthetic', 'affair', 'afford', 'affordable', 'aficionado', 'aforementioned', 'afraid', 'afternoon', 'afternoons', 'afterward', 'age', 'aged', 'ages', 'aggressive', 'ago', 'agree', 'agreed', 'ah', 'ahead', 'ahem', 'ahh', 'ahhh', 'ahi', 'ahwatukee', 'aimlessly', 'ain', 'aioli', 'air', 'airplane', 'airport', 'airways', 'airy', 'aisle', 'aisles', 'aka', 'akin', 'al', 'ala', 'alas', 'albeit', 'album', 'alcohol', 'alcoholic', 'ale', 'alert', 'ales', 'alex', 'alice', 'alike', 'alive', 'allergic', 'allergies', 'allergy', 'alley', 'allot', 'allow', 'allowed', 'allowing', 'allows', 'allure', 'almond', 'almonds', 'alongside', 'alot', 'alright', 'alternative', 'alternatives', 'altogether', 'amanda', 'amateur', 'amazed', 'amazing', 'amazingly', 'amazon', 'amber', 'ambiance', 'ambience', 'ambient', 'america', 'american', 'amounts', 'ample', 'amused', 'amusing', 'amy', 'anchor', 'ancient', 'angel', 'angeles', 'angle', 'angry', 'angus', 'animal', 'animals', 'ann', 'anniversary', 'announced', 'annoyance', 'annoyed', 'annoying', 'annoyingly', 'annual', 'answer', 'answered', 'answers', 'anti', 'anticipate', 'anticipated', 'anticipating', 'antique', 'antiques', 'anxious', 'anybody', 'anymore', 'anytime', 'anyways', 'anywho', 'apart', 'apartment', 'apologetic', 'apologies', 'apologize', 'apologized', 'apologizing', 'apology', 'app', 'apparel', 'apparent', 'apparently', 'appeal', 'appealing', 'appeals', 'appear', 'appearance', 'appeared', 'appears', 'appetite', 'appetizer', 'appetizers', 'appetizing', 'apple', 'applebee', 'applebees', 'apples', 'application', 'applied', 'apply', 'appointed', 'appointment', 'appointments', 'appreciate', 'appreciated', 'appreciation', 'appreciative', 'approach', 'approachable', 'approached', 'approaching', 'appropriate', 'appropriately', 'approval', 'approximately', 'apps', 'appt', 'april', 'arcade', 'arcadia', 'architecture', 'area', 'areas', 'aren', 'arena', 'argue', 'argued', 'arizona', 'arm', 'arms', 'army', 'aroma', 'arranged', 'arrangement', 'arrangements', 'array', 'arrival', 'arrive', 'arrived', 'arrives', 'arriving', 'arrogant', 'art', 'artichoke', 'artichokes', 'article', 'artisan', 'artist', 'artistic', 'artists', 'artois', 'arts', 'artsy', 'artwork', 'arugula', 'asap', 'ashamed', 'ashley', 'asian', 'aside', 'ask', 'asked', 'asking', 'asks', 'asleep', 'asparagus', 'aspect', 'aspects', 'ass', 'assembled', 'asses', 'asshole', 'assigned', 'assist', 'assistance', 'associate', 'associated', 'associates', 'association', 'assorted', 'assortment', 'assume', 'assumed', 'assuming', 'assure', 'assured', 'asu', 'ate', 'atleast', 'atm', 'atmosphere', 'atop', 'atrocious', 'attached', 'attack', 'attempt', 'attempted', 'attempting', 'attempts', 'attend', 'attendance', 'attendant', 'attended', 'attending', 'attention', 'attentive', 'attentiveness', 'attest', 'attire', 'attitude', 'attitudes', 'attract', 'attraction', 'attractive', 'attracts', 'au', 'audience', 'audio', 'august', 'aunt', 'austin', 'authentic', 'authenticity', 'authority', 'auto', 'automatically', 'available', 'ave', 'avenue', 'average', 'avid', 'avocado', 'avoid', 'avoided', 'avoiding', 'award', 'awards', 'aware', 'away', 'awe', 'awesome', 'awesomeness', 'awful', 'awfully', 'awhile', 'awkward', 'awkwardly', 'az', 'babies', 'baby', 'backdrop', 'backed', 'background', 'backs', 'backwards', 'backyard', 'bacon', 'bad', 'badass', 'badly', 'bag', 'bags', 'baguette', 'baja', 'bake', 'baked', 'baker', 'bakery', 'baking', 'balance', 'balanced', 'balcony', 'ball', 'ballpark', 'balls', 'balsamic', 'bam', 'banana', 'bananas', 'band', 'bands', 'bang', 'bank', 'bar', 'barbecue', 'bare', 'barely', 'bargain', 'bargains', 'barkeep', 'barnes', 'barrel', 'bars', 'barstools', 'bartender', 'bartenders', 'base', 'baseball', 'based', 'basement', 'bash', 'basic', 'basically', 'basics', 'basil', 'basis', 'basket', 'basketball', 'baskets', 'bass', 'bastard', 'bat', 'bath', 'bathroom', 'bathrooms', 'batman', 'batter', 'battered', 'battle', 'bay', 'bbq', 'bc', 'bday', 'beach', 'bean', 'beans', 'bear', 'bearable', 'beard', 'bears', 'beat', 'beaten', 'beats', 'beautiful', 'beautifully', 'beauty', 'bed', 'bedroom', 'bee', 'beef', 'beer', 'beers', 'beet', 'beets', 'beg', 'began', 'begging', 'begin', 'beginning', 'begins', 'behave', 'behavior', 'behold', 'belgian', 'believe', 'believer', 'bell', 'belly', 'belong', 'beloved', 'belt', 'ben', 'bench', 'benches', 'beneath', 'benedict', 'benefit', 'bent', 'berries', 'berry', 'best', 'bet', 'bethany', 'better', 'beverage', 'beverages', 'beware', 'bf', 'bff', 'bianco', 'biased', 'bicycle', 'big', 'bigger', 'biggest', 'biggie', 'bike', 'biker', 'bikes', 'biking', 'bikini', 'bills', 'biltmore', 'bird', 'birthday', 'birthdays', 'biscuits', 'bisque', 'bistro', 'bit', 'bitch', 'bitches', 'bitching', 'bitchy', 'bite', 'bites', 'bits', 'bitter', 'biz', 'biz_photos', 'bizarre', 'black', 'blackened', 'blah', 'blame', 'blanc', 'blanco', 'bland', 'blank', 'blankets', 'blaring', 'blast', 'blasting', 'bleh', 'blend', 'blended', 'blends', 'blessed', 'bleu', 'blew', 'blind', 'blink', 'bliss', 'block', 'blocks', 'blog', 'blond', 'blonde', 'blood', 'bloody', 'blow', 'blowing', 'blown', 'blows', 'blt', 'blue', 'blueberry', 'blues', 'board', 'boards', 'boast', 'boasts', 'boat', 'bob', 'bodies', 'body', 'boiled', 'bold', 'bomb', 'bon', 'bond', 'bone', 'boneless', 'bones', 'bonnie', 'bonus', 'boo', 'boobs', 'book', 'booked', 'booking', 'books', 'bookstore', 'boom', 'boot', 'booth', 'booths', 'boots', 'booty', 'booze', 'border', 'borders', 'bored', 'boring', 'born', 'borrow', 'boss', 'boston', 'bother', 'bothered', 'bothering', 'bothers', 'bottle', 'bottled', 'bottles', 'bought', 'bouncer', 'bouncers', 'bound', 'bourbon', 'bout', 'boutique', 'boutiques', 'bow', 'bowl', 'bowling', 'bowls', 'box', 'boxed', 'boxes', 'boy', 'boyfriend', 'boys', 'bra', 'brad', 'brain', 'branch', 'brand', 'brands', 'brandy', 'brave', 'bravo', 'brazilian', 'bread', 'breaded', 'breading', 'breads', 'break', 'breakdown', 'breakfast', 'breaking', 'breaks', 'breast', 'breasts', 'breath', 'breathe', 'breathing', 'breeze', 'brew', 'brewed', 'brewery', 'brewing', 'brews', 'brian', 'brick', 'bricks', 'bridal', 'bride', 'brie', 'brief', 'briefly', 'bright', 'brightly', 'brilliant', 'brim', 'bring', 'bringing', 'brings', 'brioche', 'british', 'britney', 'bro', 'broad', 'broccoli', 'broke', 'broken', 'broth', 'brother', 'brothers', 'brought', 'brow', 'brown', 'brownie', 'browns', 'browse', 'browsed', 'browsing', 'brulee', 'brunch', 'bruschetta', 'bs', 'btw', 'bubble', 'bubbles', 'bubbly', 'buck', 'bucket', 'bucks', 'bud', 'buddies', 'buddy', 'budget', 'buds', 'bueno', 'buffalo', 'buffet', 'bug', 'bugs', 'build', 'building', 'buildings', 'built', 'bulbs', 'bulk', 'bull', 'bullshit', 'bum', 'bummed', 'bummer', 'bump', 'bumped', 'bumping', 'bums', 'bun', 'bunch', 'buns', 'burger', 'burgers', 'burn', 'burned', 'burning', 'burnt', 'burrito', 'burritos', 'bursting', 'bus', 'busier', 'busiest', 'business', 'businesses', 'bust', 'busted', 'bustling', 'busy', 'butcher', 'butt', 'butter', 'buttery', 'button', 'buttons', 'butts', 'buy', 'buyer', 'buyers', 'buying', 'buys', 'buzz', 'buzzed', 'buzzing', 'bye', 'ca', 'cab', 'cabbage', 'cabernet', 'cable', 'cactus', 'caesar', 'cafe', 'cafeteria', 'cajun', 'cake', 'cakes', 'calamari', 'calendar', 'caliber', 'california', 'called', 'calling', 'calls', 'calm', 'calming', 'calorie', 'calories', 'came', 'camelback', 'camera', 'camper', 'canada', 'canal', 'cancel', 'canceled', 'cancelled', 'cancer', 'candied', 'candle', 'candles', 'candy', 'cane', 'canned', 'cans', 'canyon', 'cap', 'capable', 'capacity', 'capital', 'caprese', 'caps', 'captain', 'car', 'caramel', 'caramelized', 'carb', 'card', 'cardboard', 'cardinals', 'cards', 'care', 'cared', 'career', 'careful', 'carefully', 'cares', 'caring', 'carly', 'carmel', 'carne', 'carpet', 'carried', 'carries', 'carrot', 'carrots', 'carry', 'carrying', 'cars', 'cart', 'carte', 'carts', 'carved', 'case', 'cases', 'cash', 'cashier', 'cashiers', 'cast', 'casual', 'casually', 'cat', 'catch', 'catching', 'category', 'cater', 'catered', 'catering', 'caters', 'cats', 'caught', 'cause', 'caused', 'caution', 'cave', 'caveat', 'cd', 'cds', 'ceasar', 'ceiling', 'ceilings', 'celebrate', 'celebrated', 'celebrating', 'celebration', 'celery', 'cell', 'cement', 'cen', 'cenpho', 'cent', 'center', 'central', 'centrally', 'cents', 'century', 'certain', 'certainly', 'certificate', 'certificates', 'ceviche', 'chain', 'chains', 'chair', 'chairs', 'chalk', 'chalkboard', 'challenge', 'challenging', 'champagne', 'championship', 'chance', 'chances', 'chandler', 'change', 'changed', 'changes', 'changing', 'channel', 'channels', 'chaos', 'chaotic', 'char', 'character', 'characters', 'chardonnay', 'charge', 'charged', 'charges', 'charging', 'charity', 'charlie', 'charm', 'charming', 'charred', 'chase', 'chasing', 'chat', 'chatted', 'chatter', 'chatting', 'chatty', 'cheap', 'cheaper', 'cheapest', 'cheat', 'check', 'checked', 'checking', 'checkout', 'checks', 'cheddar', 'cheer', 'cheerful', 'cheers', 'cheery', 'cheese', 'cheeseburger', 'cheesecake', 'cheeses', 'cheesy', 'chef', 'chefs', 'chelsea', 'cherry', 'chest', 'chew', 'chewing', 'chewy', 'chic', 'chicago', 'chick', 'chicken', 'chicks', 'child', 'childhood', 'children', 'chile', 'chiles', 'chili', 'chill', 'chilled', 'chilling', 'chilly', 'chimay', 'china', 'chinese', 'chip', 'chipotle', 'chips', 'chit', 'chocolate', 'choice', 'choices', 'choose', 'choosing', 'chop', 'chopped', 'chops', 'chorizo', 'chose', 'chosen', 'chow', 'chowder', 'chris', 'christmas', 'chuck', 'chunk', 'chunks', 'chunky', 'church', 'ciabatta', 'cibo', 'cider', 'cigar', 'cigarette', 'cigarettes', 'cigars', 'cilantro', 'cinnamon', 'circa', 'circle', 'circles', 'circuit', 'circular', 'circumstances', 'cities', 'citrus', 'city', 'cityscape', 'ck', 'clad', 'claim', 'claimed', 'claims', 'class', 'classes', 'classic', 'classics', 'classify', 'classy', 'claustrophobic', 'clean', 'cleaned', 'cleaner', 'cleanest', 'cleaning', 'cleanliness', 'clear', 'clearance', 'cleared', 'clearly', 'clerk', 'clever', 'client', 'clientele', 'clients', 'climbing', 'clock', 'close', 'closed', 'closely', 'closer', 'closes', 'closest', 'closet', 'closing', 'cloth', 'clothes', 'clothing', 'cloud', 'clown', 'club', 'clubs', 'clue', 'clueless', 'clutter', 'cluttered', 'coach', 'coast', 'coaster', 'coat', 'coated', 'cobb', 'cocktail', 'cocktails', 'coconut', 'cod', 'code', 'coffee', 'coin', 'coke', 'cokes', 'cola', 'cold', 'cole', 'coleslaw', 'collar', 'colleague', 'colleagues', 'collect', 'collectibles', 'collection', 'collector', 'college', 'collins', 'color', 'colorado', 'colored', 'colorful', 'colors', 'com', 'coma', 'combination', 'combinations', 'combine', 'combined', 'combines', 'combo', 'come', 'comedy', 'comes', 'comfort', 'comfortable', 'comfortably', 'comforting', 'comfy', 'comic', 'comical', 'coming', 'comment', 'commented', 'commenting', 'comments', 'commercial', 'commitment', 'committed', 'common', 'communal', 'community', 'comp', 'companies', 'companion', 'companions', 'company', 'comparable', 'compare', 'compared', 'comparing', 'comparison', 'comped', 'compelled', 'compete', 'competent', 'competing', 'competition', 'competitive', 'complain', 'complained', 'complaining', 'complaint', 'complaints', 'complement', 'complementary', 'complemented', 'complete', 'completed', 'completely', 'complex', 'complicated', 'compliment', 'complimentary', 'complimented', 'compliments', 'comprised', 'computer', 'computers', 'concept', 'concepts', 'concern', 'concerned', 'concerns', 'concert', 'concerts', 'concierge', 'conclusion', 'concoction', 'concoctions', 'concrete', 'condescending', 'condiment', 'condiments', 'condition', 'conditioned', 'conditioning', 'condo', 'conducive', 'conference', 'confess', 'confidence', 'confident', 'confirm', 'confirmed', 'confused', 'confusing', 'confusion', 'connected', 'connection', 'connoisseur', 'cons', 'conscious', 'conservative', 'consider', 'considerate', 'consideration', 'considered', 'considering', 'consignment', 'consisted', 'consistency', 'consistent', 'consistently', 'consisting', 'consists', 'constant', 'constantly', 'construction', 'consume', 'consumed', 'consumer', 'consuming', 'consumption', 'contact', 'contacted', 'contain', 'contained', 'container', 'containers', 'contains', 'contemporary', 'content', 'continually', 'continue', 'continued', 'continues', 'continuing', 'contrary', 'contrast', 'control', 'convenience', 'convenient', 'conveniently', 'convention', 'conventional', 'conversation', 'conversations', 'converse', 'converted', 'convince', 'convinced', 'convo', 'cook', 'cooked', 'cookie', 'cookies', 'cooking', 'cooks', 'cool', 'cooler', 'coolest', 'cooling', 'coolness', 'cools', 'coors', 'cop', 'copies', 'copper', 'cops', 'copy', 'cordial', 'core', 'corn', 'corned', 'corner', 'corners', 'corporate', 'correct', 'corrected', 'correctly', 'corridor', 'cosmo', 'cost', 'costco', 'costs', 'costume', 'costumes', 'cottage', 'cotton', 'couch', 'couches', 'cougars', 'cough', 'couldn', 'count', 'counted', 'counter', 'counters', 'counting', 'countless', 'country', 'counts', 'couple', 'coupled', 'couples', 'coupon', 'coupons', 'courage', 'course', 'courses', 'court', 'courteous', 'courtesy', 'courtyard', 'cousin', 'cover', 'covered', 'covering', 'covers', 'coveted', 'cow', 'cowboy', 'cowboys', 'coworker', 'coworkers', 'cozy', 'crab', 'crack', 'cracked', 'cracker', 'crackers', 'craft', 'crafted', 'crafts', 'crafty', 'crammed', 'cramped', 'cranberries', 'cranberry', 'crap', 'crappy', 'crashing', 'crave', 'craving', 'cravings', 'crawl', 'crawling', 'crazy', 'cream', 'creamy', 'create', 'created', 'creates', 'creating', 'creation', 'creative', 'creativity', 'credit', 'creek', 'creepy', 'creme', 'crew', 'crime', 'crisis', 'crisp', 'crispy', 'critical', 'criticism', 'critique', 'croissant', 'cross', 'crossed', 'croutons', 'crowd', 'crowded', 'crowds', 'crowed', 'crown', 'cruise', 'cruiser', 'cruising', 'crumbles', 'crunch', 'crunchy', 'crush', 'crushed', 'crust', 'crusty', 'crying', 'crème', 'cubes', 'cucumber', 'cucumbers', 'cue', 'cuisine', 'culinary', 'cultural', 'culture', 'cup', 'cupcake', 'cupcakes', 'cups', 'cure', 'cured', 'curiosity', 'curious', 'current', 'currently', 'curry', 'curtains', 'cushy', 'custom', 'customer', 'customers', 'cut', 'cute', 'cutest', 'cutie', 'cuts', 'cutter', 'cutting', 'cuz', 'dad', 'daily', 'dairy', 'dallas', 'damage', 'damn', 'damned', 'dance', 'danced', 'dancers', 'dancing', 'dang', 'dangerous', 'dare', 'daring', 'dark', 'darker', 'darling', 'darn', 'dart', 'darts', 'dash', 'date', 'dated', 'dates', 'dating', 'daughter', 'dave', 'david', 'day', 'days', 'dbacks', 'dc', 'dd', 'dead', 'deal', 'dealing', 'deals', 'dealt', 'dear', 'death', 'debating', 'debit', 'decade', 'decadent', 'decades', 'december', 'decent', 'decently', 'decide', 'decided', 'decidedly', 'decides', 'deciding', 'decision', 'decisions', 'deck', 'decked', 'declared', 'decline', 'declined', 'deco', 'decor', 'decorate', 'decorated', 'decorating', 'decoration', 'decorations', 'decorative', 'dedicated', 'deemed', 'deep', 'deeply', 'deer', 'def', 'default', 'defiantly', 'definately', 'definetly', 'definite', 'definitely', 'definition', 'definitley', 'degree', 'degrees', 'del', 'delay', 'delayed', 'delectable', 'deli', 'delicate', 'delicious', 'deliciously', 'deliciousness', 'delight', 'delighted', 'delightful', 'delightfully', 'delights', 'delish', 'deliver', 'delivered', 'delivering', 'delivers', 'delivery', 'delux', 'deluxe', 'demand', 'demographic', 'denied', 'denny', 'dense', 'denver', 'deny', 'department', 'departments', 'depend', 'dependable', 'depending', 'depends', 'depot', 'depressing', 'dept', 'depth', 'described', 'describes', 'describing', 'description', 'descriptions', 'desert', 'deserted', 'deserts', 'deserve', 'deserved', 'deserves', 'deserving', 'design', 'designated', 'designed', 'designer', 'designers', 'designs', 'desire', 'desired', 'desk', 'desperate', 'desperately', 'despise', 'despite', 'dessert', 'desserts', 'destination', 'detailed', 'details', 'deter', 'determine', 'determined', 'develop', 'developed', 'development', 'device', 'devil', 'devoted', 'devour', 'devoured', 'diamond', 'diamondbacks', 'diced', 'dick', 'did', 'didn', 'didnt', 'die', 'died', 'diego', 'diet', 'difference', 'different', 'differently', 'difficult', 'difficulty', 'dig', 'digging', 'digital', 'digress', 'digs', 'dim', 'dime', 'dimly', 'dine', 'dined', 'diner', 'diners', 'ding', 'dingy', 'dining', 'dinner', 'dinners', 'dinning', 'dip', 'dipped', 'dipping', 'dips', 'direct', 'directed', 'direction', 'directions', 'directly', 'dirt', 'dirty', 'disagree', 'disappear', 'disappeared', 'disappearing', 'disappoint', 'disappointed', 'disappointing', 'disappointment', 'disappoints', 'disaster', 'disclaimer', 'disclosure', 'discount', 'discounted', 'discounts', 'discover', 'discovered', 'discuss', 'discussed', 'discussing', 'discussion', 'disgusted', 'disgusting', 'dish', 'dishes', 'disinterested', 'dislike', 'dismal', 'disorganized', 'display', 'displayed', 'displays', 'disposable', 'dissapointed', 'distance', 'distinct', 'distract', 'distracted', 'distracting', 'district', 'diva', 'dive', 'diverse', 'diversity', 'dives', 'divey', 'divided', 'divine', 'diy', 'dj', 'djs', 'doctor', 'does', 'doesn', 'doesnt', 'dog', 'dogfish', 'dogs', 'doing', 'doll', 'dollar', 'dollars', 'domestic', 'domestics', 'don', 'dont', 'donuts', 'door', 'doors', 'dope', 'dos', 'dose', 'dot', 'double', 'doubles', 'doubt', 'douche', 'douchebag', 'douchebags', 'douchey', 'dough', 'downer', 'downfall', 'downhill', 'downing', 'download', 'downright', 'downs', 'downside', 'downsides', 'downstairs', 'downtown', 'dozen', 'dozens', 'dr', 'draft', 'drafts', 'drag', 'dragged', 'dragging', 'dragon', 'drama', 'dramatic', 'drank', 'drastically', 'draught', 'draw', 'drawback', 'drawing', 'drawn', 'draws', 'dreaded', 'dream', 'dreaming', 'dreams', 'drenched', 'dress', 'dressed', 'dresses', 'dressing', 'dressings', 'drew', 'dried', 'drink', 'drinker', 'drinkers', 'drinkin', 'drinking', 'drinks', 'drip', 'dripping', 'drive', 'driven', 'driver', 'drivers', 'drives', 'driving', 'drizzle', 'drizzled', 'drool', 'drooling', 'drop', 'dropped', 'dropping', 'drops', 'drove', 'drown', 'drowned', 'drug', 'drugs', 'drum', 'drunk', 'drunken', 'drunks', 'dry', 'drying', 'dubious', 'duck', 'dude', 'dudes', 'dug', 'duh', 'dull', 'dumb', 'dump', 'dumped', 'dunno', 'duo', 'durant', 'dust', 'dusty', 'duty', 'dvd', 'dvds', 'dying', 'décor', 'eager', 'ear', 'earlier', 'early', 'earn', 'earned', 'earns', 'earrings', 'ears', 'earth', 'earthy', 'ease', 'easier', 'easiest', 'easily', 'east', 'easter', 'easy', 'eat', 'eaten', 'eater', 'eateries', 'eaters', 'eatery', 'eating', 'eats', 'ebay', 'echo', 'eclectic', 'economic', 'economy', 'ecstatic', 'ect', 'ed', 'edge', 'edges', 'edgy', 'edible', 'edit', 'educated', 'eff', 'effect', 'efficient', 'efficiently', 'effing', 'effort', 'efforts', 'egg', 'eggs', 'ego', 'eh', 'el', 'elaborate', 'elbow', 'elbows', 'elderly', 'electric', 'electronic', 'electronics', 'elegant', 'element', 'elements', 'elevated', 'elevator', 'elite', 'em', 'email', 'emailed', 'emails', 'embarrassed', 'embarrassing', 'emphasis', 'empire', 'employee', 'employees', 'emptied', 'enchanting', 'encounter', 'encountered', 'encourage', 'encouraged', 'encourages', 'end', 'ended', 'ending', 'endless', 'ends', 'energetic', 'energy', 'engaged', 'engagement', 'engaging', 'england', 'english', 'enhance', 'enjoy', 'enjoyable', 'enjoyed', 'enjoying', 'enjoyment', 'enjoys', 'enormous', 'ensure', 'enter', 'entered', 'entering', 'entertain', 'entertained', 'entertaining', 'entertainment', 'enthusiastic', 'enthusiasts', 'enticing', 'entire', 'entirely', 'entrance', 'entrances', 'entree', 'entrees', 'entry', 'environment', 'envy', 'epic', 'episode', 'equal', 'equally', 'equipment', 'equipped', 'equivalent', 'er', 'era', 'eric', 'error', 'escape', 'escorted', 'esp', 'especially', 'espn', 'espresso', 'esque', 'essence', 'essentially', 'est', 'established', 'establishment', 'establishments', 'estate', 'euro', 'europe', 'european', 'eve', 'evening', 'evenings', 'event', 'events', 'eventually', 'everybody', 'everyday', 'everytime', 'evident', 'evidently', 'evil', 'ew', 'ex', 'exact', 'exactly', 'example', 'exceeded', 'excellent', 'exception', 'exceptional', 'exceptionally', 'exceptions', 'excessive', 'exchange', 'excited', 'excitement', 'exciting', 'exclusive', 'exclusively', 'excuse', 'excuses', 'execute', 'executed', 'execution', 'exercise', 'exhausted', 'exhibit', 'exist', 'existed', 'existence', 'existent', 'exists', 'exit', 'exotic', 'expand', 'expanded', 'expansion', 'expansive', 'expect', 'expectation', 'expectations', 'expected', 'expecting', 'expense', 'expensive', 'experience', 'experienced', 'experiences', 'experiencing', 'expert', 'expertise', 'experts', 'expire', 'expired', 'explain', 'explained', 'explaining', 'explanation', 'explore', 'exploring', 'explosion', 'exposed', 'express', 'exquisite', 'extend', 'extended', 'extensive', 'exterior', 'extra', 'extraordinary', 'extras', 'extreme', 'extremely', 'eye', 'eyebrow', 'eyebrows', 'eyed', 'eyes', 'fab', 'fabric', 'fabulous', 'facade', 'face', 'facebook', 'faced', 'faces', 'facial', 'facilities', 'facility', 'facing', 'fact', 'factor', 'factors', 'factory', 'facts', 'faded', 'fail', 'failed', 'fails', 'faint', 'fair', 'fairly', 'fairness', 'faith', 'fake', 'fall', 'fallen', 'falling', 'falls', 'fame', 'familiar', 'families', 'family', 'famished', 'famous', 'fan', 'fancy', 'fans', 'fantastic', 'fantastically', 'far', 'fare', 'farm', 'farmer', 'farmers', 'farther', 'fascinating', 'fashion', 'fashionable', 'fashioned', 'fast', 'faster', 'fat', 'fate', 'father', 'fatty', 'fault', 'faux', 'fav', 'fave', 'faves', 'favor', 'favorable', 'favorite', 'favorites', 'favourite', 'favs', 'fear', 'feast', 'feat', 'feature', 'featured', 'features', 'featuring', 'february', 'fed', 'fee', 'feed', 'feedback', 'feel', 'feeling', 'feelings', 'feels', 'fees', 'feet', 'fell', 'fellas', 'fellow', 'felt', 'female', 'fence', 'fest', 'festival', 'festivities', 'feta', 'fewer', 'fez', 'fi', 'fiance', 'fiancé', 'field', 'fifth', 'fig', 'fight', 'fighting', 'fights', 'figure', 'figured', 'figures', 'figuring', 'file', 'filet', 'filled', 'fillet', 'filling', 'fills', 'film', 'filthy', 'final', 'finally', 'finding', 'finds', 'fine', 'finest', 'finger', 'fingers', 'finish', 'finished', 'finishing', 'fired', 'fireplace', 'firm', 'firmly', 'firstly', 'fish', 'fishy', 'fist', 'fit', 'fitness', 'fits', 'fitted', 'fitting', 'fix', 'fixed', 'fixing', 'fixings', 'fixtures', 'flag', 'flagged', 'flags', 'flagstaff', 'flair', 'flakes', 'flaky', 'flare', 'flash', 'flat', 'flatbread', 'flatbreads', 'flavor', 'flavored', 'flavorful', 'flavorless', 'flavors', 'flaw', 'flew', 'flexible', 'flies', 'flight', 'flights', 'flip', 'floating', 'floor', 'floors', 'flops', 'floral', 'florist', 'flour', 'flow', 'flower', 'flowers', 'flowing', 'fluffy', 'fluke', 'fly', 'flying', 'fo', 'foam', 'focaccia', 'focus', 'focused', 'folded', 'folk', 'folks', 'follow', 'followed', 'following', 'fond', 'fondue', 'foo', 'food', 'foodie', 'foodies', 'foods', 'fool', 'fooled', 'fools', 'foot', 'football', 'force', 'forced', 'foreign', 'foremost', 'forever', 'forewarned', 'forget', 'forgettable', 'forgetting', 'forgive', 'forgo', 'forgot', 'forgotten', 'fork', 'form', 'formal', 'formed', 'formula', 'forth', 'fortunate', 'fortunately', 'fortune', 'forward', 'fought', 'foul', 'fountain', 'fourth', 'fox', 'fraction', 'frame', 'framed', 'frames', 'france', 'francisco', 'frank', 'frankly', 'frat', 'freak', 'freakin', 'freaking', 'freaks', 'freaky', 'free', 'freezer', 'freezing', 'french', 'frequent', 'frequented', 'frequenting', 'frequently', 'fresh', 'freshly', 'freshness', 'fri', 'friday', 'fridays', 'fridge', 'fried', 'friend', 'friendlier', 'friendliest', 'friendliness', 'friendly', 'friends', 'fries', 'friggin', 'frills', 'frosting', 'frosty', 'frozen', 'frugal', 'fruit', 'fruits', 'fruity', 'frustrated', 'frustrating', 'frustration', 'fry', 'frys', 'fuck', 'fucking', 'fulfill', 'fully', 'fun', 'function', 'funds', 'funk', 'funky', 'funny', 'furnishings', 'furniture', 'furthermore', 'fusion', 'fuss', 'future', 'fuzzy', 'fyi', 'gabi', 'gadgets', 'gag', 'gaga', 'gain', 'gal', 'gallery', 'gallo', 'gallon', 'galore', 'gals', 'game', 'games', 'gang', 'gap', 'garage', 'garbage', 'garden', 'gardens', 'garlic', 'garnish', 'garnished', 'gas', 'gasp', 'gate', 'gates', 'gather', 'gathering', 'gave', 'gay', 'gays', 'gear', 'geared', 'gee', 'geek', 'gel', 'gelato', 'gem', 'gems', 'gender', 'general', 'generally', 'generation', 'generic', 'generous', 'generously', 'genius', 'genre', 'genres', 'gentle', 'gentleman', 'gentlemen', 'gently', 'genuine', 'genuinely', 'george', 'getaway', 'gets', 'getting', 'gf', 'ghetto', 'ghost', 'giant', 'giants', 'gift', 'gifts', 'gig', 'gigantic', 'giggle', 'gilbert', 'gills', 'gin', 'ginger', 'ginormous', 'girl', 'girlfriend', 'girlfriends', 'girls', 'girly', 'given', 'gives', 'giving', 'glad', 'gladly', 'glam', 'glance', 'glanced', 'glass', 'glasses', 'glassware', 'glaze', 'glazed', 'glendale', 'glimpse', 'glorified', 'glorious', 'glory', 'gloves', 'glow', 'glowing', 'gluten', 'gm', 'goal', 'goat', 'god', 'goddamn', 'gods', 'goers', 'goes', 'going', 'gold', 'golden', 'golf', 'gone', 'gonna', 'good', 'goodbye', 'goodies', 'goodness', 'goods', 'goodwill', 'gooey', 'goofy', 'google', 'goose', 'gordon', 'gorgeous', 'gorgonzola', 'gosh', 'gossip', 'got', 'goth', 'gotta', 'gotten', 'gourmet', 'grab', 'grabbed', 'grabbing', 'grace', 'gracious', 'graciously', 'grad', 'grade', 'graffiti', 'grain', 'grand', 'grande', 'grandma', 'grandmother', 'granted', 'grape', 'grapefruit', 'grapes', 'graphic', 'grass', 'grateful', 'gratuity', 'gravy', 'gray', 'grease', 'greasy', 'great', 'greater', 'greatest', 'greatly', 'greatness', 'greek', 'green', 'greens', 'greet', 'greeted', 'greeter', 'greeting', 'greets', 'grew', 'grey', 'grill', 'grilled', 'grin', 'grind', 'gripe', 'gritty', 'groceries', 'grocery', 'groove', 'groovy', 'gross', 'grossed', 'ground', 'grounds', 'group', 'groupon', 'groups', 'grow', 'growing', 'grown', 'grows', 'grub', 'grumpy', 'gruyere', 'guac', 'guacamole', 'guarantee', 'guaranteed', 'guard', 'guess', 'guessed', 'guessing', 'guest', 'guests', 'guidance', 'guide', 'guilty', 'guiness', 'guinness', 'guitar', 'gum', 'gun', 'guns', 'gut', 'guy', 'guys', 'gym', 'ha', 'habit', 'hadn', 'haha', 'hahaha', 'hair', 'haircut', 'haired', 'hairs', 'half', 'halfway', 'hall', 'halloween', 'hallway', 'ham', 'hamburger', 'hamburgers', 'hammered', 'hand', 'handcrafted', 'handed', 'handful', 'handing', 'handle', 'handled', 'handling', 'handmade', 'hands', 'handsome', 'handy', 'hang', 'hanging', 'hangout', 'hangover', 'hangs', 'hanny', 'happen', 'happened', 'happening', 'happens', 'happier', 'happily', 'happiness', 'happy', 'hard', 'hardcore', 'harder', 'hardest', 'hardly', 'hardware', 'hardy', 'harsh', 'hash', 'hasn', 'hassle', 'hat', 'hate', 'hated', 'hates', 'hats', 'haunt', 'haven', 'havent', 'having', 'hawaii', 'hawaiian', 'hd', 'head', 'headache', 'headed', 'heading', 'heads', 'health', 'healthier', 'healthy', 'heap', 'heaping', 'hear', 'heard', 'hearing', 'heart', 'heartbeat', 'hearts', 'hearty', 'heat', 'heated', 'heaters', 'heaven', 'heavenly', 'heavier', 'heavily', 'heavy', 'heck', 'hectic', 'heels', 'hefty', 'height', 'held', 'hell', 'hella', 'hello', 'help', 'helped', 'helpful', 'helping', 'helps', 'herb', 'herbs', 'hesitant', 'hesitate', 'hesitation', 'hey', 'hh', 'hi', 'hidden', 'hide', 'hideaway', 'hideous', 'hiding', 'high', 'higher', 'highest', 'highlight', 'highlights', 'highly', 'hike', 'hiking', 'hilarious', 'hill', 'hint', 'hip', 'hipness', 'hippest', 'hippie', 'hippies', 'hipster', 'hipsters', 'hire', 'hired', 'hiring', 'historic', 'historical', 'history', 'hit', 'hits', 'hitting', 'hmm', 'hmmm', 'hmmmm', 'ho', 'hobby', 'hockey', 'hold', 'holder', 'holders', 'holding', 'holds', 'hole', 'holes', 'holiday', 'holidays', 'hollywood', 'holy', 'home', 'homeless', 'homemade', 'homes', 'homey', 'honest', 'honestly', 'honesty', 'honey', 'honor', 'hoo', 'hood', 'hook', 'hooked', 'hooks', 'hooray', 'hoot', 'hop', 'hope', 'hoped', 'hopefully', 'hopes', 'hoping', 'hopped', 'hoppin', 'hopping', 'horrendous', 'horrible', 'horribly', 'horrid', 'horrific', 'horror', 'horse', 'horseradish', 'hospital', 'hospitality', 'host', 'hosted', 'hostess', 'hostesses', 'hosting', 'hosts', 'hot', 'hotel', 'hotels', 'hotter', 'hottest', 'hour', 'hours', 'house', 'housed', 'household', 'houses', 'housewares', 'houston', 'hovering', 'hr', 'http', 'hubby', 'hubs', 'hug', 'huge', 'hugely', 'huh', 'hula', 'human', 'humble', 'hummus', 'humor', 'hundreds', 'hung', 'hunger', 'hungry', 'hunk', 'hunt', 'hunter', 'hunting', 'hurry', 'hurt', 'hurts', 'husband', 'husbands', 'hustle', 'hype', 'ice', 'iceberg', 'iced', 'icing', 'ick', 'icy', 'id', 'idea', 'ideal', 'ideas', 'identical', 'identify', 'identity', 'idiot', 'idiots', 'iffy', 'ignore', 'ignored', 'ignoring', 'ihop', 'ii', 'ikea', 'ill', 'illegal', 'im', 'image', 'imaginable', 'imagination', 'imagine', 'imagined', 'imho', 'immediate', 'immediately', 'immensely', 'imo', 'impact', 'impatient', 'impeccable', 'import', 'importance', 'important', 'importantly', 'imported', 'imports', 'impossible', 'impress', 'impressed', 'impression', 'impressions', 'impressive', 'impromptu', 'improve', 'improved', 'improvement', 'improves', 'improving', 'impulse', 'inappropriate', 'inattentive', 'inch', 'inches', 'incident', 'inclined', 'include', 'included', 'includes', 'including', 'incompetent', 'inconsistent', 'inconvenience', 'inconvenient', 'incorrect', 'incorrectly', 'increase', 'incredible', 'incredibly', 'indecisive', 'independent', 'independently', 'indian', 'indicate', 'indicated', 'indie', 'indifferent', 'individual', 'individuals', 'indoor', 'indoors', 'indulge', 'indulged', 'industrial', 'industry', 'inedible', 'inevitably', 'inexpensive', 'inexperienced', 'infamous', 'influence', 'influenced', 'info', 'inform', 'information', 'informative', 'informed', 'infused', 'ing', 'ingredient', 'ingredients', 'initial', 'initially', 'ink', 'inn', 'inner', 'innovative', 'inquire', 'inquired', 'ins', 'insane', 'insanely', 'insert', 'inside', 'insist', 'insisted', 'inspection', 'inspiration', 'inspire', 'inspired', 'inspiring', 'install', 'installed', 'instance', 'instant', 'instantly', 'instead', 'institution', 'instruction', 'instructions', 'insult', 'insulting', 'insurance', 'intact', 'intend', 'intended', 'intense', 'intent', 'intention', 'intentions', 'interact', 'interaction', 'interactive', 'interested', 'interesting', 'interior', 'international', 'internet', 'interrupted', 'intimacy', 'intimate', 'intimidated', 'intimidating', 'intoxicating', 'intrigued', 'intriguing', 'introduce', 'introduced', 'introducing', 'intrusive', 'inventive', 'inventory', 'invest', 'investment', 'invisible', 'invite', 'invited', 'inviting', 'involve', 'involved', 'ipa', 'iphone', 'ipod', 'irish', 'iron', 'ironic', 'irritated', 'ish', 'island', 'islands', 'isn', 'isnt', 'isolated', 'issue', 'issues', 'italian', 'italy', 'item', 'items', 'ive', 'jack', 'jacked', 'jacket', 'jackets', 'jackson', 'jalapeno', 'jalapenos', 'jam', 'james', 'jameson', 'jammed', 'jamming', 'jams', 'jane', 'january', 'japanese', 'jar', 'jason', 'jazz', 'jealous', 'jean', 'jeans', 'jerk', 'jersey', 'jessica', 'jesus', 'jewel', 'jewelery', 'jewelry', 'jim', 'jimmy', 'job', 'jobs', 'joe', 'joes', 'john', 'johnny', 'join', 'joined', 'joining', 'joint', 'joints', 'joke', 'jokes', 'joking', 'jose', 'josh', 'journey', 'joy', 'judge', 'judged', 'judgement', 'judging', 'judgment', 'judgmental', 'juice', 'juices', 'juicy', 'juke', 'jukebox', 'july', 'jump', 'jumped', 'jumping', 'june', 'junk', 'junkie', 'junky', 'jus', 'just', 'justice', 'justify', 'justin', 'karaoke', 'keen', 'keeping', 'keeps', 'keg', 'kegs', 'kept', 'ketchup', 'kettle', 'key', 'keys', 'kick', 'kicked', 'kicker', 'kicking', 'kicks', 'kid', 'kidding', 'kids', 'kierland', 'kill', 'killed', 'killer', 'killing', 'kills', 'kilt', 'kiltlifter', 'kind', 'kinda', 'kindly', 'kinds', 'king', 'kinks', 'kiosk', 'kiss', 'kit', 'kitchen', 'kitsch', 'kitschy', 'kitty', 'knacks', 'knee', 'knees', 'knew', 'knick', 'knife', 'knock', 'knocked', 'knocking', 'knot', 'know', 'knowing', 'knowledgable', 'knowledge', 'knowledgeable', 'known', 'knows', 'kobe', 'kristin', 'kudos', 'la', 'lab', 'label', 'labeled', 'labels', 'labor', 'lack', 'lacked', 'lacking', 'lackluster', 'lacks', 'laden', 'ladies', 'lady', 'lager', 'laid', 'lamb', 'lame', 'lamp', 'lamps', 'land', 'landed', 'landmark', 'landscape', 'lane', 'language', 'lap', 'laptop', 'large', 'largely', 'larger', 'largest', 'las', 'lasted', 'lasting', 'lastly', 'lasts', 'late', 'lately', 'later', 'latest', 'latin', 'latte', 'laugh', 'laughed', 'laughing', 'laughs', 'laundry', 'lauren', 'law', 'lawn', 'laws', 'lay', 'layer', 'layered', 'layers', 'laying', 'layout', 'lazy', 'lb', 'lbs', 'le', 'lead', 'leading', 'leads', 'leaf', 'league', 'lean', 'learn', 'learned', 'learning', 'leather', 'leave', 'leaves', 'leaving', 'led', 'lee', 'left', 'leftover', 'leftovers', 'leg', 'legal', 'legend', 'legendary', 'legit', 'legitimate', 'legs', 'leisurely', 'lemon', 'lemonade', 'lemons', 'lemony', 'length', 'lengthy', 'lesbian', 'lesser', 'lesson', 'lessons', 'let', 'lets', 'letters', 'letting', 'lettuce', 'level', 'levels', 'libations', 'library', 'license', 'lick', 'licking', 'lie', 'lies', 'life', 'lifestyle', 'lifetime', 'lift', 'light', 'lighted', 'lighter', 'lighting', 'lightly', 'lightrail', 'lights', 'like', 'liked', 'likely', 'likes', 'liking', 'lil', 'lime', 'limit', 'limited', 'limp', 'lincoln', 'line', 'lined', 'linens', 'lines', 'lineup', 'linger', 'lingered', 'lingering', 'lining', 'link', 'lip', 'lips', 'liqueur', 'liquid', 'liquor', 'lisa', 'lish', 'list', 'listed', 'listen', 'listened', 'listening', 'listing', 'lists', 'lit', 'lite', 'literally', 'little', 'live', 'lived', 'lively', 'liver', 'lives', 'living', 'll', 'lo', 'load', 'loaded', 'loads', 'loaf', 'loathe', 'lobby', 'lobster', 'local', 'locale', 'locally', 'locals', 'locate', 'located', 'location', 'locations', 'lock', 'locked', 'loft', 'logic', 'logo', 'lol', 'london', 'lone', 'lonely', 'long', 'longer', 'look', 'looked', 'lookin', 'looking', 'looks', 'loop', 'loose', 'lord', 'los', 'lose', 'loser', 'losing', 'loss', 'lost', 'lot', 'lotion', 'lots', 'loud', 'louder', 'loudly', 'lounge', 'lounges', 'loungey', 'lounging', 'loungy', 'lousy', 'love', 'loved', 'lovely', 'lover', 'lovers', 'loves', 'loving', 'low', 'lower', 'lowered', 'loyal', 'luck', 'lucked', 'luckily', 'lucky', 'luggage', 'luke', 'lukewarm', 'lunch', 'lunches', 'lunchtime', 'lured', 'luscious', 'lush', 'luster', 'luv', 'lux', 'luxurious', 'luxury', 'lying', 'ma', 'mac', 'macaroni', 'machine', 'machines', 'macy', 'mad', 'madness', 'magazine', 'magazines', 'magic', 'magical', 'magically', 'magnificent', 'mail', 'mailing', 'main', 'mainly', 'mainstream', 'maintain', 'maintained', 'maintaining', 'maintenance', 'major', 'majority', 'make', 'makeover', 'maker', 'makers', 'makes', 'makeshift', 'makeup', 'making', 'malbec', 'male', 'mall', 'malls', 'malt', 'mama', 'man', 'manage', 'manageable', 'managed', 'management', 'manager', 'managers', 'manages', 'managing', 'mandatory', 'mango', 'manhattan', 'mani', 'manicure', 'manicures', 'manly', 'manner', 'manners', 'manning', 'map', 'maple', 'march', 'margarita', 'margaritas', 'marinara', 'marinated', 'mark', 'marked', 'market', 'marketing', 'marketplace', 'markets', 'marks', 'marriage', 'married', 'marry', 'mart', 'martini', 'martinis', 'mary', 'marys', 'mash', 'mashed', 'mask', 'mass', 'massage', 'massages', 'massaging', 'masses', 'massive', 'master', 'masterpiece', 'match', 'matched', 'matches', 'matching', 'mate', 'material', 'materials', 'math', 'matt', 'matter', 'matters', 'mature', 'max', 'maybe', 'mayo', 'mayonnaise', 'maze', 'mazing', 'mc', 'mcdonald', 'mcdonalds', 'mcdowell', 'meager', 'meal', 'meals', 'mean', 'meaning', 'means', 'meant', 'meantime', 'measure', 'meat', 'meatballs', 'meatloaf', 'meats', 'meaty', 'mecca', 'med', 'media', 'medical', 'mediocre', 'mediterranean', 'medium', 'meet', 'meeting', 'meetings', 'meets', 'meetup', 'mega', 'meh', 'mellow', 'melon', 'melrose', 'melt', 'melted', 'melting', 'melts', 'member', 'members', 'membership', 'memorabilia', 'memorable', 'memorial', 'memories', 'memory', 'men', 'mens', 'mental', 'mentally', 'mention', 'mentioned', 'mentioning', 'mentions', 'menu', 'menus', 'merc', 'merch', 'merchandise', 'mere', 'merely', 'merlot', 'merry', 'mesa', 'mess', 'message', 'messed', 'messing', 'messy', 'met', 'metal', 'meter', 'meters', 'method', 'metro', 'mexican', 'mexico', 'mi', 'mia', 'miami', 'mic', 'michael', 'micro', 'microwave', 'mid', 'middle', 'midnight', 'midtown', 'midwest', 'mighty', 'mignon', 'mike', 'mild', 'mildly', 'mile', 'miles', 'milk', 'miller', 'milling', 'million', 'mimosa', 'mimosas', 'min', 'mind', 'minded', 'minds', 'mingle', 'mingling', 'mini', 'miniature', 'minimal', 'minimalist', 'minimum', 'minor', 'minority', 'mins', 'mint', 'minus', 'minute', 'minutes', 'mirror', 'mirrors', 'mis', 'miserable', 'miss', 'missed', 'misses', 'missing', 'mission', 'mistake', 'mistaken', 'mistakes', 'misters', 'mix', 'mixed', 'mixer', 'mixes', 'mixing', 'mixture', 'mmm', 'mmmm', 'mmmmm', 'mocha', 'mod', 'mode', 'model', 'models', 'moderate', 'moderately', 'modern', 'modest', 'modified', 'moist', 'mojito', 'mojitos', 'mom', 'moment', 'moments', 'moms', 'mon', 'monday', 'mondays', 'money', 'monster', 'month', 'monthly', 'months', 'mood', 'moon', 'moral', 'morning', 'mornings', 'moscow', 'mother', 'mothers', 'mountain', 'mouse', 'mouth', 'moved', 'moves', 'movie', 'movies', 'moving', 'mozzarella', 'mr', 'mrs', 'muddled', 'muffin', 'mug', 'mugs', 'mule', 'multi', 'multiple', 'munch', 'munchies', 'museum', 'mush', 'mushroom', 'mushrooms', 'mushy', 'music', 'musical', 'musician', 'musicians', 'mussels', 'mustache', 'mustard', 'muster', 'musty', 'myriad', 'mysterious', 'mystery', 'nacho', 'nachos', 'nail', 'nailed', 'nails', 'naked', 'named', 'names', 'nap', 'napkin', 'napkins', 'narrow', 'nasty', 'nathan', 'nation', 'national', 'native', 'natural', 'naturally', 'nature', 'naughty', 'navigate', 'navy', 'near', 'nearby', 'nearly', 'neat', 'neatly', 'necessarily', 'necessary', 'neck', 'necklace', 'necklaces', 'need', 'needed', 'needing', 'needless', 'needs', 'negative', 'negatives', 'neglected', 'neighbor', 'neighborhood', 'neighborhoods', 'neighboring', 'neighbors', 'neon', 'nerd', 'nerve', 'nervous', 'ness', 'nestled', 'net', 'network', 'nevada', 'new', 'newer', 'newest', 'newly', 'news', 'newspaper', 'nfl', 'nibble', 'nice', 'nicely', 'nicer', 'nicest', 'niche', 'niece', 'nifty', 'night', 'nightcap', 'nightclub', 'nightlife', 'nightly', 'nightmare', 'nights', 'nite', 'noir', 'noise', 'noisy', 'non', 'nondescript', 'nonetheless', 'nonsense', 'noodles', 'nook', 'nooks', 'noon', 'nope', 'nordstrom', 'norm', 'normal', 'normally', 'north', 'northern', 'northwest', 'nose', 'nosh', 'nostalgia', 'nostalgic', 'notable', 'notch', 'note', 'noted', 'notes', 'notice', 'noticeable', 'noticed', 'noticing', 'noting', 'novel', 'novelty', 'november', 'nowadays', 'nuff', 'number', 'numbers', 'numerous', 'nut', 'nuts', 'ny', 'nyc', 'nye', 'oak', 'oasis', 'objects', 'obligatory', 'obliged', 'obnoxious', 'obscure', 'observation', 'observed', 'obsessed', 'obsession', 'obvious', 'obviously', 'occasion', 'occasional', 'occasionally', 'occasions', 'occupied', 'occurred', 'ocean', 'october', 'odd', 'oddly', 'odds', 'odor', 'offended', 'offensive', 'offer', 'offered', 'offering', 'offerings', 'offers', 'office', 'official', 'officially', 'oh', 'oil', 'oily', 'oj', 'ok', 'okay', 'ol', 'old', 'older', 'oldest', 'olds', 'ole', 'olive', 'olives', 'omelet', 'omg', 'ones', 'onion', 'onions', 'online', 'ooh', 'oops', 'op', 'open', 'opened', 'opening', 'opens', 'operate', 'operated', 'operation', 'opi', 'opinion', 'opportunity', 'opposed', 'opposite', 'opt', 'opted', 'option', 'options', 'orange', 'oranges', 'order', 'ordered', 'ordering', 'orders', 'ordinary', 'oregon', 'organic', 'organization', 'organize', 'organized', 'orgasmic', 'oriented', 'original', 'originally', 'orleans', 'ouch', 'ought', 'ounce', 'ounces', 'outdated', 'outdoor', 'outdoors', 'outfit', 'outfits', 'outfitters', 'outgoing', 'outing', 'outlet', 'outlets', 'outrageous', 'outrageously', 'outright', 'outs', 'outside', 'outstanding', 'outta', 'oven', 'overall', 'overbearing', 'overcome', 'overcooked', 'overcrowded', 'overdone', 'overdue', 'overflowing', 'overhead', 'overheard', 'overload', 'overlook', 'overlooked', 'overlooking', 'overly', 'overpowered', 'overpowering', 'overpriced', 'overrated', 'overs', 'oversized', 'overwhelm', 'overwhelmed', 'overwhelming', 'overwhelmingly', 'owe', 'owned', 'owner', 'owners', 'ownership', 'owns', 'oz', 'pace', 'pack', 'package', 'packaged', 'packed', 'packing', 'packs', 'pad', 'page', 'pages', 'paid', 'pain', 'painful', 'painfully', 'paint', 'painted', 'painting', 'paintings', 'pair', 'paired', 'pairing', 'pairings', 'pairs', 'pal', 'palate', 'pale', 'palette', 'palm', 'pals', 'pampered', 'pan', 'pancake', 'pancakes', 'panel', 'paneling', 'panini', 'panties', 'pants', 'paper', 'papers', 'par', 'paradise', 'parents', 'paris', 'park', 'parked', 'parking', 'parlor', 'parmesan', 'partake', 'partial', 'partially', 'participate', 'participating', 'particular', 'particularly', 'parties', 'partly', 'partner', 'partners', 'parts', 'party', 'partying', 'pass', 'passable', 'passed', 'passes', 'passing', 'passion', 'passionate', 'past', 'pasta', 'pastas', 'paste', 'pastry', 'pat', 'patches', 'path', 'pathetic', 'patience', 'patient', 'patiently', 'patio', 'patios', 'patrick', 'patron', 'patronage', 'patronize', 'patrons', 'pattern', 'patterns', 'patties', 'patty', 'pay', 'paycheck', 'paying', 'payment', 'pbr', 'pea', 'peace', 'peaceful', 'peach', 'peak', 'peaks', 'peanut', 'peanuts', 'pear', 'pearl', 'pears', 'peas', 'pecan', 'pecans', 'pedestrian', 'pedi', 'pedicure', 'pedicures', 'pedis', 'pee', 'peek', 'peep', 'peeps', 'peeve', 'pen', 'pennies', 'penny', 'people', 'peoples', 'peoria', 'pepper', 'peppers', 'percent', 'perfect', 'perfection', 'perfectly', 'perform', 'performance', 'performances', 'performed', 'performers', 'performing', 'perfume', 'period', 'periods', 'permanent', 'person', 'personable', 'personal', 'personalities', 'personality', 'personalized', 'personally', 'persons', 'perspective', 'peruse', 'perusing', 'pesto', 'pet', 'pete', 'petite', 'pharmacy', 'phase', 'phenomenal', 'philly', 'philosophy', 'pho', 'phoenician', 'phoenicians', 'phoenix', 'phone', 'phones', 'photo', 'photos', 'phrase', 'phx', 'physical', 'physically', 'piano', 'pic', 'pick', 'picked', 'picking', 'pickle', 'pickled', 'pickles', 'picks', 'pickup', 'picky', 'picnic', 'pics', 'picture', 'pictures', 'pie', 'piece', 'pieces', 'pies', 'pig', 'pile', 'piled', 'piles', 'pillow', 'pillows', 'pin', 'pinball', 'pinch', 'pine', 'pineapple', 'pink', 'pinot', 'pins', 'pint', 'pints', 'piping', 'piss', 'pissed', 'pit', 'pita', 'pitcher', 'pitchers', 'pits', 'pizza', 'pizzas', 'pizzeria', 'place', 'placed', 'places', 'placing', 'plaid', 'plain', 'plan', 'plane', 'planet', 'planned', 'planning', 'plans', 'plant', 'plants', 'plasma', 'plastic', 'plate', 'plated', 'plates', 'platform', 'platter', 'platters', 'play', 'played', 'player', 'players', 'playground', 'playing', 'playlist', 'playoff', 'plays', 'plaza', 'pleasant', 'pleasantly', 'pleased', 'pleasing', 'pleasure', 'plentiful', 'plenty', 'plethora', 'plump', 'plus', 'pluses', 'plush', 'pm', 'poached', 'pocket', 'pockets', 'point', 'pointed', 'pointing', 'pointless', 'points', 'poisoning', 'poker', 'pole', 'police', 'policies', 'policy', 'polish', 'polished', 'polite', 'politely', 'political', 'pomegranate', 'pond', 'pool', 'poor', 'poorly', 'pop', 'popcorn', 'popped', 'popping', 'pops', 'popular', 'popularity', 'populated', 'population', 'porch', 'pork', 'porn', 'port', 'porter', 'portion', 'portioned', 'portions', 'portland', 'posh', 'position', 'positive', 'positively', 'positives', 'possibility', 'possible', 'possibly', 'post', 'posted', 'poster', 'posters', 'posting', 'postino', 'postinos', 'pot', 'potato', 'potatoe', 'potatoes', 'potential', 'potentially', 'pots', 'pound', 'pounding', 'pour', 'poured', 'pouring', 'pours', 'powder', 'power', 'powerful', 'powers', 'ppl', 'practically', 'practice', 'praise', 'pre', 'precious', 'preface', 'prefer', 'preference', 'preferences', 'preferred', 'pregame', 'pregnant', 'premises', 'premium', 'prep', 'preparation', 'prepare', 'prepared', 'preparing', 'presence', 'present', 'presentation', 'presented', 'presents', 'press', 'pressed', 'pressure', 'pretend', 'pretension', 'pretentious', 'pretentiousness', 'pretty', 'pretzel', 'pretzels', 'prevent', 'previous', 'previously', 'price', 'priced', 'priceless', 'prices', 'pricey', 'pricier', 'pricing', 'pricy', 'pride', 'primarily', 'primary', 'prime', 'princess', 'print', 'printed', 'prints', 'prior', 'priority', 'pristine', 'privacy', 'private', 'prize', 'pro', 'prob', 'probably', 'problem', 'problems', 'procedure', 'proceed', 'proceeded', 'proceeds', 'process', 'processed', 'proclaimed', 'produce', 'produced', 'product', 'products', 'professional', 'professionally', 'professionals', 'profile', 'profit', 'program', 'progress', 'progressed', 'project', 'projection', 'projector', 'projects', 'promise', 'promised', 'promising', 'promote', 'promotion', 'prompt', 'promptly', 'proof', 'proper', 'properly', 'property', 'props', 'pros', 'prosciutto', 'proscuitto', 'protein', 'proud', 'proudly', 'prove', 'proved', 'provide', 'provided', 'provides', 'providing', 'provolone', 'proximity', 'ps', 'pseudo', 'pub', 'public', 'pubs', 'puck', 'pudding', 'puff', 'puke', 'pull', 'pulled', 'pulling', 'pulls', 'pump', 'pumped', 'pumping', 'pumpkin', 'pumps', 'pun', 'punch', 'punk', 'purchase', 'purchased', 'purchases', 'purchasing', 'pure', 'purely', 'purple', 'purpose', 'purse', 'purses', 'push', 'pushed', 'pushing', 'pushy', 'puts', 'putting', 'quaint', 'qualities', 'quality', 'qualms', 'quantities', 'quantity', 'quarter', 'quarters', 'queen', 'quesadilla', 'quesadillas', 'queso', 'quest', 'question', 'questionable', 'questioning', 'questions', 'quick', 'quicker', 'quickly', 'quiet', 'quieter', 'quietly', 'quintessential', 'quirky', 'quit', 'quite', 'quote', 'rabbit', 'race', 'rachel', 'racing', 'rack', 'racks', 'rad', 'radar', 'radio', 'radius', 'rail', 'rain', 'rainbow', 'raining', 'rainy', 'raise', 'raised', 'ran', 'ranch', 'random', 'randomly', 'range', 'ranged', 'ranges', 'ranging', 'rank', 'rant', 'rap', 'rare', 'rarely', 'rarity', 'raspberry', 'rat', 'rate', 'rated', 'rating', 'ratings', 'ratio', 'rave', 'raved', 'raves', 'raving', 'raw', 'ray', 'rd', 'reach', 'reached', 'reaction', 'read', 'reader', 'reading', 'reads', 'ready', 'real', 'reality', 'realize', 'realized', 'realizing', 'really', 'rear', 'reason', 'reasonable', 'reasonably', 'reasons', 'recall', 'reccomend', 'receipt', 'receive', 'received', 'receiving', 'recent', 'recently', 'reception', 'receptionist', 'recession', 'recieved', 'recipe', 'recipes', 'recognize', 'recognized', 'recommend', 'recommendation', 'recommendations', 'recommended', 'recommending', 'record', 'records', 'rectangular', 'red', 'redeeming', 'reds', 'reduced', 'reduction', 'refer', 'reference', 'referred', 'referring', 'refill', 'refilled', 'refilling', 'refills', 'refined', 'reflect', 'reflected', 'reflection', 'refreshed', 'refreshing', 'refund', 'refurbished', 'refuse', 'refused', 'regard', 'regarding', 'regardless', 'regards', 'reggae', 'region', 'regional', 'register', 'registers', 'regret', 'regular', 'regularly', 'regulars', 'reheated', 'related', 'relationship', 'relative', 'relatively', 'relax', 'relaxation', 'relaxed', 'relaxing', 'release', 'reliable', 'relief', 'relieved', 'relish', 'reluctant', 'remain', 'remainder', 'remained', 'remaining', 'remains', 'remarkable', 'remember', 'remembered', 'remembering', 'remembers', 'remind', 'reminded', 'reminding', 'reminds', 'reminiscent', 'remodel', 'remodeled', 'remodeling', 'remote', 'remotely', 'remove', 'removed', 'remover', 'removing', 'renovated', 'renovation', 'renovations', 'rent', 'rental', 'rented', 'rep', 'repair', 'repaired', 'repairs', 'repeat', 'repeated', 'repeatedly', 'repeating', 'replace', 'replaced', 'replacement', 'replacing', 'replied', 'replies', 'reply', 'report', 'republic', 'reputation', 'request', 'requested', 'requesting', 'requests', 'require', 'required', 'requires', 'requisite', 'research', 'reservation', 'reservations', 'reserve', 'reserved', 'resident', 'residential', 'residents', 'resist', 'resolved', 'resort', 'respect', 'respectful', 'respond', 'responded', 'response', 'responsible', 'responsive', 'rest', 'restaurant', 'restaurants', 'restored', 'restroom', 'restrooms', 'resturant', 'result', 'resulted', 'results', 'retail', 'retain', 'retarded', 'retreat', 'retro', 'return', 'returned', 'returning', 'returns', 'reuben', 'reuse', 'reverse', 'review', 'reviewed', 'reviewer', 'reviewers', 'reviewing', 'reviews', 'revisit', 'reward', 'rewards', 'rib', 'ribbon', 'ribs', 'rice', 'rich', 'rickie', 'ricotta', 'rid', 'ride', 'rides', 'ridge', 'ridiculous', 'ridiculously', 'riding', 'riesling', 'right', 'rim', 'ring', 'ringing', 'rings', 'rip', 'ripe', 'ripped', 'ripping', 'rise', 'risk', 'risotto', 'rival', 'river', 'road', 'roast', 'roasted', 'rob', 'robert', 'robot', 'robust', 'rock', 'rocked', 'rockin', 'rocking', 'rocks', 'rocky', 'rode', 'rogue', 'roll', 'rolled', 'roller', 'rolling', 'rolls', 'romaine', 'romance', 'romantic', 'roof', 'room', 'roommate', 'rooms', 'roomy', 'roosevelt', 'root', 'rope', 'rose', 'rosemary', 'roses', 'ross', 'rotate', 'rotating', 'rotation', 'rotten', 'rough', 'roughly', 'round', 'rounded', 'rounds', 'route', 'routine', 'row', 'rowdy', 'rows', 'royal', 'royalty', 'rub', 'rubbed', 'rubber', 'rubbery', 'rubbing', 'ruben', 'rude', 'rudely', 'rudeness', 'rug', 'ruin', 'ruined', 'ruining', 'ruins', 'rule', 'rules', 'rum', 'rumor', 'run', 'rundown', 'runner', 'runners', 'running', 'runny', 'runs', 'rush', 'rushed', 'rushing', 'russian', 'rustic', 'rye', 'sad', 'sadly', 'safe', 'safely', 'safety', 'safeway', 'sage', 'said', 'sake', 'salad', 'salads', 'salami', 'sale', 'sales', 'salmon', 'salon', 'salons', 'salsa', 'salt', 'salted', 'saltiness', 'salty', 'sam', 'sammy', 'sample', 'sampled', 'sampler', 'samples', 'sampling', 'san', 'sanctuary', 'sand', 'sandals', 'sandwhich', 'sandwich', 'sandwiched', 'sandwiches', 'sang', 'sangria', 'sans', 'santa', 'sara', 'sarah', 'sarcastic', 'sat', 'satellite', 'satisfaction', 'satisfied', 'satisfy', 'satisfying', 'saturday', 'saturdays', 'sauce', 'sauces', 'saucy', 'sausage', 'sauteed', 'sauvignon', 'save', 'saved', 'savers', 'saves', 'saving', 'savings', 'savory', 'savvy', 'saw', 'say', 'sayin', 'saying', 'says', 'scale', 'scallops', 'scam', 'scan', 'scarce', 'scare', 'scared', 'scarf', 'scarves', 'scary', 'scattered', 'scenario', 'scene', 'scenes', 'scent', 'scented', 'schedule', 'scheduled', 'scheduling', 'scheme', 'school', 'science', 'scoop', 'score', 'scored', 'scores', 'scotch', 'scott', 'scottish', 'scottsdale', 'scratch', 'scream', 'screaming', 'screams', 'screen', 'screens', 'screw', 'screwed', 'scrub', 'scrumptious', 'sculpture', 'se', 'sea', 'seafood', 'seal', 'sealed', 'seamus', 'search', 'searched', 'searching', 'seared', 'season', 'seasonal', 'seasoned', 'seasoning', 'seasons', 'seat', 'seated', 'seating', 'seats', 'seattle', 'second', 'secondly', 'seconds', 'secret', 'secretly', 'secrets', 'section', 'sections', 'secure', 'security', 'seed', 'seeds', 'seedy', 'seeing', 'seek', 'seeking', 'seemingly', 'seen', 'sees', 'select', 'selected', 'selection', 'selections', 'self', 'sell', 'selling', 'sells', 'semi', 'send', 'sending', 'senior', 'sense', 'senses', 'sensitive', 'sent', 'separate', 'separated', 'separately', 'seperate', 'september', 'series', 'seriously', 'serve', 'served', 'server', 'servers', 'serves', 'service', 'services', 'serving', 'servings', 'sesame', 'session', 'set', 'sets', 'setting', 'settle', 'settled', 'setup', 'seven', 'severely', 'sewing', 'sex', 'sexy', 'sf', 'sh', 'shabby', 'shack', 'shade', 'shaded', 'shades', 'shady', 'shake', 'shaker', 'shaking', 'shall', 'shame', 'shampoo', 'shape', 'shaped', 'share', 'shared', 'shares', 'sharing', 'sharp', 'shaved', 'sheep', 'sheer', 'sheet', 'sheets', 'shelf', 'shell', 'shells', 'shelves', 'shift', 'shine', 'shines', 'shining', 'shiny', 'ship', 'shipped', 'shipping', 'shirt', 'shirts', 'shit', 'shitty', 'shock', 'shocked', 'shocking', 'shockingly', 'shoe', 'shoes', 'shoestring', 'shook', 'shoot', 'shooting', 'shoots', 'shop', 'shopped', 'shopper', 'shoppers', 'shopping', 'shops', 'short', 'shortage', 'shorter', 'shortly', 'shorts', 'shot', 'shots', 'shoulder', 'shoulders', 'shouldn', 'shout', 'shouting', 'shoved', 'showcase', 'showed', 'shower', 'showing', 'shown', 'shows', 'shredded', 'shrimp', 'shrug', 'shut', 'shy', 'sick', 'sides', 'sidewalk', 'sierra', 'sigh', 'sight', 'sign', 'signage', 'signature', 'signed', 'significant', 'signing', 'signs', 'silence', 'silent', 'silk', 'silly', 'silver', 'silverware', 'similar', 'simple', 'simplicity', 'simply', 'simultaneously', 'sincerely', 'sing', 'singer', 'singing', 'single', 'singles', 'sink', 'sip', 'sipped', 'sipping', 'sips', 'sir', 'sis', 'sister', 'sisters', 'sit', 'site', 'sits', 'sitting', 'situated', 'situation', 'size', 'sized', 'sizes', 'skeptical', 'sketchy', 'skill', 'skilled', 'skills', 'skimp', 'skimpy', 'skin', 'skinny', 'skins', 'skip', 'skipped', 'skirt', 'skirts', 'sky', 'slab', 'slack', 'slam', 'slammed', 'slapped', 'slathered', 'slaw', 'sleek', 'sleep', 'sleeping', 'sleepy', 'sleeves', 'slice', 'sliced', 'slices', 'slick', 'slide', 'slider', 'sliders', 'slight', 'slightest', 'slightly', 'slim', 'slimy', 'slip', 'slipped', 'slivers', 'sloppy', 'slow', 'slower', 'slowly', 'smack', 'small', 'smaller', 'smallest', 'smallish', 'smart', 'smashed', 'smattering', 'smell', 'smelled', 'smelling', 'smells', 'smelly', 'smile', 'smiled', 'smiles', 'smiley', 'smiling', 'smith', 'smoke', 'smoked', 'smoker', 'smokers', 'smokey', 'smokin', 'smoking', 'smoky', 'smooth', 'smothered', 'snack', 'snacking', 'snacks', 'snag', 'snagged', 'snap', 'snapped', 'snarky', 'snazzy', 'sneak', 'snob', 'snobbery', 'snobby', 'snobs', 'snooty', 'snotty', 'snow', 'snuck', 'soak', 'soaked', 'soaking', 'soap', 'sober', 'soccer', 'social', 'socialize', 'socializing', 'society', 'socks', 'soda', 'sodas', 'sofa', 'sofas', 'soft', 'softer', 'soggy', 'sold', 'sole', 'solely', 'solid', 'solidly', 'solo', 'solution', 'solved', 'somebody', 'someday', 'someones', 'someplace', 'somethings', 'somewhat', 'son', 'song', 'songs', 'sonoran', 'soo', 'soon', 'sooner', 'sooo', 'soooo', 'sooooo', 'soooooo', 'soothing', 'sophisticated', 'sorely', 'sorry', 'sort', 'sorta', 'sorted', 'sorts', 'soul', 'sound', 'sounded', 'sounding', 'sounds', 'soundtrack', 'soup', 'soups', 'sour', 'source', 'sourced', 'sourdough', 'south', 'southern', 'southwest', 'southwestern', 'soy', 'sp', 'spa', 'space', 'spaced', 'spaces', 'spacious', 'spanish', 'spare', 'sparkling', 'sparkly', 'sparse', 'speak', 'speaker', 'speakers', 'speaking', 'speaks', 'spears', 'special', 'specially', 'specials', 'specialties', 'specialty', 'specific', 'specifically', 'spectacular', 'spectrum', 'speech', 'speed', 'speedy', 'spell', 'spelled', 'spend', 'spending', 'spendy', 'spent', 'spice', 'spiced', 'spices', 'spicy', 'spiked', 'spilled', 'spilling', 'spin', 'spinach', 'spinning', 'spins', 'spirit', 'spirits', 'spit', 'spite', 'splash', 'splendid', 'split', 'splitting', 'splurge', 'spoiled', 'spoke', 'spoken', 'spoon', 'sport', 'sporting', 'sports', 'sportsbar', 'spot', 'spotless', 'spots', 'spotted', 'spotty', 'spray', 'spread', 'spring', 'springs', 'sprinkled', 'sprouts', 'square', 'squash', 'squeeze', 'squeezed', 'squeezing', 'st', 'stack', 'stacked', 'stacks', 'stadium', 'staff', 'staffed', 'staffing', 'stage', 'stained', 'stainless', 'stains', 'stairs', 'stale', 'stall', 'stalls', 'stamp', 'stamped', 'stand', 'standard', 'standards', 'standby', 'standing', 'standout', 'stands', 'staple', 'staples', 'star', 'starbucks', 'stare', 'stared', 'staring', 'stark', 'stars', 'start', 'started', 'starter', 'starters', 'starting', 'starts', 'starving', 'state', 'stated', 'statement', 'states', 'stating', 'station', 'stations', 'status', 'stay', 'stayed', 'staying', 'stays', 'steady', 'steak', 'steakhouse', 'steaks', 'steal', 'stealing', 'steam', 'steamed', 'steel', 'steep', 'steer', 'stella', 'stellar', 'stench', 'step', 'stepped', 'stepping', 'steps', 'stereo', 'steve', 'stevey', 'stew', 'stick', 'sticker', 'stickers', 'sticking', 'sticks', 'sticky', 'stiff', 'stingy', 'stink', 'stinks', 'stinky', 'stock', 'stocked', 'stocking', 'stoked', 'stole', 'stolen', 'stomach', 'stone', 'stones', 'stood', 'stool', 'stools', 'stop', 'stopped', 'stopping', 'stops', 'storage', 'store', 'storefront', 'stores', 'stories', 'storm', 'story', 'stout', 'straight', 'strange', 'strangely', 'stranger', 'strangers', 'strangest', 'straw', 'strawberries', 'strawberry', 'straws', 'stray', 'stream', 'street', 'streets', 'strength', 'stress', 'stressed', 'stressful', 'stretch', 'stretched', 'strictly', 'strike', 'strikes', 'striking', 'string', 'strings', 'strip', 'strips', 'stroll', 'strong', 'strongbow', 'stronger', 'strongly', 'struck', 'structure', 'struggle', 'struggling', 'stuck', 'student', 'students', 'studio', 'study', 'studying', 'stuff', 'stuffed', 'stuffy', 'stumble', 'stumbled', 'stumbling', 'stunning', 'stupid', 'style', 'styles', 'stylish', 'sub', 'subject', 'sublime', 'subpar', 'subsequent', 'substance', 'substantial', 'substitute', 'subtle', 'suburban', 'subway', 'succeed', 'success', 'successful', 'successfully', 'succulent', 'suck', 'sucked', 'sucker', 'suckers', 'sucks', 'sudden', 'suddenly', 'suffer', 'suffering', 'suffice', 'sugar', 'sugary', 'suggest', 'suggested', 'suggesting', 'suggestion', 'suggestions', 'suggests', 'suit', 'suitable', 'suite', 'suited', 'suits', 'sum', 'summary', 'summer', 'sums', 'sun', 'sundae', 'sunday', 'sundays', 'sunglasses', 'sunny', 'suns', 'sunset', 'sunshine', 'super', 'superb', 'superior', 'supplied', 'supplies', 'supply', 'support', 'supported', 'supporting', 'supports', 'suppose', 'supposed', 'supposedly', 'suprised', 'sure', 'surely', 'surf', 'surface', 'surgery', 'surly', 'surprise', 'surprised', 'surprises', 'surprising', 'surprisingly', 'surround', 'surrounded', 'surrounding', 'surroundings', 'survive', 'sushi', 'suspect', 'swamped', 'swank', 'swanky', 'swear', 'sweat', 'sweater', 'sweating', 'sweaty', 'sweet', 'sweeter', 'sweetheart', 'sweetie', 'sweetness', 'sweets', 'swell', 'sweltering', 'swim', 'swimming', 'swing', 'swipe', 'swiss', 'switch', 'switched', 'symphony', 'syrup', 'tab', 'table', 'tables', 'tabs', 'tacky', 'taco', 'tacos', 'tad', 'tag', 'tags', 'tail', 'taken', 'takeout', 'takes', 'taking', 'talent', 'talented', 'talk', 'talkative', 'talked', 'talking', 'talks', 'tall', 'tan', 'tang', 'tangy', 'tank', 'tap', 'tapas', 'tape', 'taps', 'target', 'tart', 'tartar', 'task', 'taste', 'tastebuds', 'tasted', 'tasteful', 'tastefully', 'tasteless', 'tastes', 'tastic', 'tastier', 'tasting', 'tastings', 'tasty', 'tattoo', 'tattoos', 'taught', 'tavern', 'tax', 'taxi', 'taylor', 'tea', 'teacher', 'team', 'teams', 'tear', 'tears', 'teas', 'tech', 'technically', 'technician', 'techno', 'technology', 'techs', 'tee', 'teenage', 'teenager', 'teeny', 'teeth', 'teh', 'television', 'televisions', 'tell', 'telling', 'tells', 'temp', 'tempe', 'temperature', 'temperatures', 'temps', 'temptation', 'tempted', 'tempting', 'tend', 'tender', 'tenderloin', 'tenders', 'tends', 'tequila', 'teriyaki', 'term', 'terms', 'terrible', 'terribly', 'terrific', 'territory', 'test', 'texas', 'text', 'texting', 'texture', 'textures', 'thai', 'thank', 'thanked', 'thankful', 'thankfully', 'thanks', 'thanksgiving', 'thats', 'theater', 'theatre', 'thee', 'theirs', 'theme', 'themed', 'theory', 'therapy', 'theres', 'thicker', 'thier', 'thing', 'things', 'thingy', 'think', 'thinking', 'thinks', 'thinly', 'thinner', 'thirst', 'thirsty', 'thirty', 'tho', 'thomas', 'thorough', 'thoroughly', 'thou', 'thought', 'thoughtful', 'thoughts', 'thousand', 'thousands', 'thread', 'threads', 'threw', 'thrift', 'thrill', 'thrilled', 'thriving', 'throat', 'throw', 'throwback', 'throwing', 'thrown', 'thumbs', 'thurs', 'thursday', 'thursdays', 'ticket', 'tickets', 'tie', 'tied', 'ties', 'tight', 'til', 'tile', 'tiles', 'till', 'tilted', 'time', 'timed', 'timely', 'timer', 'times', 'timing', 'tiny', 'tip', 'tipped', 'tipping', 'tips', 'tipsy', 'tire', 'tired', 'tissue', 'title', 'tits', 'tj', 'tlc', 'toast', 'toasted', 'toasty', 'today', 'toddler', 'toe', 'toes', 'toilet', 'toilets', 'token', 'told', 'tolerate', 'tom', 'tomato', 'tomatoes', 'tommy', 'tomorrow', 'ton', 'tone', 'tones', 'tongue', 'tonic', 'tonight', 'tons', 'tony', 'took', 'tool', 'tools', 'tooth', 'topic', 'topped', 'topping', 'toppings', 'tops', 'torn', 'tortilla', 'tortillas', 'torture', 'toss', 'tossed', 'total', 'totally', 'touch', 'touched', 'touches', 'touching', 'tough', 'tour', 'tourist', 'tourists', 'tow', 'towel', 'towels', 'tower', 'town', 'towners', 'toy', 'toys', 'track', 'tracks', 'trade', 'tradition', 'traditional', 'traffic', 'trail', 'trailer', 'train', 'trained', 'training', 'transaction', 'transformed', 'transition', 'transported', 'trapped', 'trash', 'trashy', 'travel', 'traveled', 'traveler', 'traveling', 'travels', 'tray', 'trays', 'treasure', 'treasures', 'treat', 'treated', 'treating', 'treatment', 'treats', 'tree', 'trees', 'trek', 'tremendous', 'tremendously', 'trend', 'trendy', 'trick', 'tricky', 'tried', 'tries', 'trim', 'trinkets', 'trio', 'trip', 'triple', 'trips', 'trivia', 'tropical', 'trouble', 'truck', 'true', 'truffle', 'truly', 'trunk', 'trust', 'trusted', 'trusty', 'truth', 'try', 'trying', 'tub', 'tube', 'tubes', 'tucked', 'tucson', 'tues', 'tuesday', 'tuesdays', 'tummy', 'tuna', 'tune', 'tuned', 'tunes', 'turf', 'turkey', 'turn', 'turned', 'turning', 'turns', 'tv', 'tvs', 'twice', 'twin', 'twist', 'twisted', 'twists', 'twitter', 'type', 'types', 'typical', 'typically', 'uber', 'ufc', 'ugh', 'ugly', 'uh', 'uk', 'ultimate', 'ultimately', 'ultra', 'um', 'umbrella', 'umm', 'ummm', 'unable', 'unacceptable', 'unassuming', 'unbeatable', 'unbelievable', 'unbelievably', 'uncomfortable', 'uncommon', 'undercooked', 'underground', 'underneath', 'understaffed', 'understand', 'understandable', 'understanding', 'understatement', 'understood', 'underwhelmed', 'underwhelming', 'unexpected', 'unfair', 'unfamiliar', 'unfortunate', 'unfortunately', 'unfriendly', 'unhappy', 'unheard', 'uniform', 'uniforms', 'unimpressed', 'uninspired', 'unique', 'uniquely', 'uniqueness', 'unisex', 'unit', 'united', 'universe', 'unless', 'unlike', 'unlikely', 'unlimited', 'unnecessary', 'unorganized', 'unpleasant', 'unpretentious', 'unprofessional', 'unreal', 'unruly', 'unsure', 'unusual', 'unwelcome', 'unwind', 'upbeat', 'upcoming', 'update', 'updated', 'updates', 'updating', 'upfront', 'upgrade', 'upgraded', 'upper', 'uppity', 'ups', 'upscale', 'upset', 'upside', 'upstairs', 'uptight', 'uptown', 'ur', 'urban', 'urge', 'urinal', 'urine', 'usa', 'use', 'used', 'useful', 'useless', 'user', 'uses', 'using', 'usual', 'usually', 'utilized', 'utter', 'utterly', 'uye', 'vacant', 'vacation', 'vague', 'vaguely', 'valentine', 'valet', 'validate', 'validated', 'valley', 'valuable', 'value', 'values', 'van', 'vanilla', 'varied', 'varies', 'varieties', 'variety', 'various', 'vary', 'varying', 'vases', 'vast', 've', 'veg', 'vegan', 'vegans', 'vegas', 'vegetable', 'vegetables', 'vegetarian', 'vegetarians', 'veggie', 'veggies', 'vehicle', 'velvet', 'vendors', 'venture', 'ventured', 'venturing', 'venue', 'venues', 'verge', 'version', 'versions', 'versus', 'vibe', 'vibes', 'vibrant', 'vicinity', 'video', 'videos', 'view', 'viewing', 'views', 'vig', 'village', 'vinaigrette', 'vinegar', 'vino', 'vintage', 'vinyl', 'vip', 'virgin', 'virtually', 'visible', 'visibly', 'vision', 'visit', 'visited', 'visiting', 'visitor', 'visitors', 'visits', 'visual', 'visually', 'vodka', 'voice', 'void', 'volume', 'vomit', 'vote', 'voted', 'vowed', 'vs', 'waaaay', 'waaay', 'wait', 'waited', 'waiter', 'waiters', 'waiting', 'waitress', 'waitresses', 'waits', 'waitstaff', 'wake', 'wal', 'walk', 'walked', 'walking', 'walks', 'walkway', 'wall', 'wallet', 'wallets', 'walls', 'walmart', 'walnut', 'walnuts', 'wander', 'wandered', 'wandering', 'wanna', 'wannabe', 'want', 'wanted', 'wanting', 'wants', 'war', 'wardrobe', 'ware', 'warehouse', 'wares', 'warm', 'warmed', 'warmer', 'warmly', 'warmth', 'warn', 'warned', 'warning', 'warrant', 'warranted', 'warrants', 'wary', 'wash', 'washed', 'washing', 'washington', 'wasn', 'wasnt', 'waste', 'wasted', 'wasting', 'watch', 'watched', 'watching', 'water', 'watered', 'watering', 'watermelon', 'waters', 'watery', 'wave', 'wax', 'waxed', 'waxing', 'way', 'ways', 'weak', 'wear', 'wearing', 'wears', 'weary', 'weather', 'web', 'website', 'wed', 'wedding', 'wedge', 'wedges', 'wednesday', 'wednesdays', 'wee', 'week', 'weekday', 'weekdays', 'weekend', 'weekends', 'weekly', 'weeknight', 'weeknights', 'weeks', 'weight', 'weird', 'welcome', 'welcomed', 'welcomes', 'welcoming', 'wells', 'went', 'weren', 'west', 'western', 'wet', 'whatevs', 'whatnot', 'whats', 'whatsoever', 'wheat', 'wheel', 'wheels', 'whichever', 'whilst', 'whim', 'whimsical', 'whining', 'whip', 'whipped', 'whirl', 'whiskey', 'white', 'whites', 'whoa', 'whomever', 'whopping', 'whore', 'wi', 'wicked', 'wide', 'wife', 'wifi', 'wild', 'wildly', 'willing', 'wilted', 'win', 'wind', 'window', 'windows', 'wine', 'wines', 'wing', 'wings', 'winner', 'winners', 'winning', 'wins', 'winter', 'wipe', 'wiped', 'wise', 'wish', 'wished', 'wishes', 'wishing', 'witness', 'witnessed', 'witty', 'woke', 'woman', 'women', 'womens', 'won', 'wonder', 'wondered', 'wonderful', 'wonderfully', 'wondering', 'wonderland', 'wont', 'woo', 'wood', 'wooden', 'woods', 'woohoo', 'word', 'words', 'wore', 'work', 'worked', 'worker', 'workers', 'working', 'workout', 'works', 'world', 'worlds', 'worn', 'worried', 'worries', 'worry', 'worse', 'worst', 'worth', 'worthwhile', 'worthy', 'wouldn', 'wouldnt', 'wound', 'wow', 'wowed', 'wrap', 'wrapped', 'wrapping', 'wraps', 'wreck', 'write', 'writer', 'writing', 'written', 'wrong', 'wrote', 'wtf', 'www', 'xmas', 'xx', 'ya', 'yard', 'yards', 'yawn', 'yay', 'yea', 'yeah', 'year', 'years', 'yell', 'yelled', 'yelling', 'yellow', 'yelp', 'yelped', 'yelper', 'yelpers', 'yelping', 'yep', 'yes', 'yesterday', 'yikes', 'yo', 'yoga', 'yogurt', 'york', 'yorker', 'young', 'younger', 'youth', 'yr', 'yrs', 'yuck', 'yum', 'yummy', 'yup', 'yuppie', 'zen', 'zero', 'zesty', 'zip', 'zipps', 'zombie', 'zone', 'zucchini']\n"
          ],
          "name": "stdout"
        }
      ]
    },
    {
      "cell_type": "markdown",
      "metadata": {
        "id": "Pueo9rjDMS_D"
      },
      "source": [
        "# 1."
      ]
    },
    {
      "cell_type": "markdown",
      "metadata": {
        "id": "MtRAskBQxGFt"
      },
      "source": [
        "k-means"
      ]
    },
    {
      "cell_type": "code",
      "metadata": {
        "id": "_bRnHOb6AZRH",
        "colab": {
          "base_uri": "https://localhost:8080/"
        },
        "outputId": "ae79adb9-1437-446d-87e2-2867e6dd0b93"
      },
      "source": [
        "kmeans = sk_cluster.KMeans(init='k-means++', n_clusters=3, n_init=10)\n",
        "kmeans.fit_predict(X)\n",
        "centroids = kmeans.cluster_centers_\n",
        "kmeans_labels = kmeans.labels_\n",
        "error = kmeans.inertia_\n",
        "print (\"The total error of the clustering is: \", error)\n",
        "print ('\\nCluster labels')\n",
        "print(kmeans_labels)\n",
        "print ('\\n Cluster Centroids')\n",
        "print (centroids)\n"
      ],
      "execution_count": null,
      "outputs": [
        {
          "output_type": "stream",
          "text": [
            "The total error of the clustering is:  274.77760216261953\n",
            "\n",
            "Cluster labels\n",
            "[2 2 0 0 1 2 2 1 0 2 0 0 0 1 0 1 1 1 1 1 1 0 2 2 1 0 0 0 0 2 0 1 1 2 1 0 0\n",
            " 0 0 2 0 2 1 1 2 2 2 2 2 1 1 1 0 0 0 2 2 1 1 1 0 1 1 0 2 0 1 0 1 1 1 2 1 0\n",
            " 2 2 0 1 2 0 1 2 1 0 0 1 1 1 2 2 1 2 0 2 1 1 1 1 1 2 1 2 1 1 1 1 0 2 2 0 1\n",
            " 2 2 2 1 2 0 1 2 2 2 1 0 0 0 0 1 1 2 2 1 2 1 2 2 1 0 2 2 2 1 0 1 2 1 1 0 0\n",
            " 2 1 2 1 0 0 1 2 1 2 1 2 2 2 1 0 0 2 2 0 1 2 1 2 0 0 0 0 2 1 1 0 1 2 0 1 1\n",
            " 2 0 0 1 2 2 1 1 0 0 1 1 1 2 1 0 0 0 0 0 0 1 2 0 0 2 1 0 1 2 0 0 1 1 0 1 2\n",
            " 1 2 2 0 2 2 2 0 2 0 2 1 1 1 2 0 0 1 2 1 1 2 2 0 1 0 1 2 0 0 1 2 1 1 0 1 0\n",
            " 1 2 2 2 2 0 0 0 1 0 2 2 0 1 0 1 2 0 2 1 0 2 0 1 0 0 0 0 1 2 1 1 1 1 0 2 1\n",
            " 0 1 0 1 0 2 0 2 2 0 1 1 1 2 1 0 1 1 0 1 0 0 2 1 1 2 1 2 1 1 0 0 0 2 2 0 2\n",
            " 0 2 0 0 0 0 1 1 2 2 0 0 0 1 2 2 2 0 1 0 1 0 1 1 2 2 1 1 1 0 0 2 1 2 0 1 2\n",
            " 1 2 0 2 1 1 1 0 0 2 2 2 1 1 0 1 0 1 0 0 1 0 1 1 1 1 0 0 1 0 0 2 1 2 1 0 1\n",
            " 0 0 0 1 2 2 2 1 1 1 0 0 0 2 0 2 2 0 0 0 1 2 1 1 2 2]\n",
            "\n",
            " Cluster Centroids\n",
            "[[0.00513702 0.00112225 0.00081588 ... 0.0010148  0.00118633 0.00272443]\n",
            " [0.00371159 0.00125102 0.00023531 ... 0.0005249  0.00096488 0.        ]\n",
            " [0.00515879 0.00045703 0.0007124  ... 0.00100619 0.00045469 0.        ]]\n"
          ],
          "name": "stdout"
        }
      ]
    },
    {
      "cell_type": "markdown",
      "metadata": {
        "id": "G8xb32HwxLTu"
      },
      "source": [
        "The most frequent terms per cluster."
      ]
    },
    {
      "cell_type": "code",
      "metadata": {
        "id": "YzSdvSzOKzzW",
        "colab": {
          "base_uri": "https://localhost:8080/"
        },
        "outputId": "84fe1124-5042-4891-b977-0afefa4045c5"
      },
      "source": [
        "k=3\n",
        "print(\"Top terms per cluster:\")\n",
        "asc_order_centroids = kmeans.cluster_centers_.argsort()#[:, ::-1]\n",
        "order_centroids = asc_order_centroids[:,::-1]\n",
        "terms = vectorizer.get_feature_names()\n",
        "for i in range(k):\n",
        "  print (\"Cluster %d:\" % i)\n",
        "  for ind in order_centroids[i, :10]:\n",
        "    print (' %s' % terms[ind])\n",
        "  print\n"
      ],
      "execution_count": null,
      "outputs": [
        {
          "output_type": "stream",
          "text": [
            "Top terms per cluster:\n",
            "Cluster 0:\n",
            " bar\n",
            " food\n",
            " place\n",
            " good\n",
            " great\n",
            " like\n",
            " just\n",
            " drinks\n",
            " night\n",
            " really\n",
            "Cluster 1:\n",
            " pedicure\n",
            " nails\n",
            " massage\n",
            " place\n",
            " nail\n",
            " pedi\n",
            " salon\n",
            " great\n",
            " time\n",
            " like\n",
            "Cluster 2:\n",
            " store\n",
            " like\n",
            " place\n",
            " just\n",
            " great\n",
            " items\n",
            " shop\n",
            " really\n",
            " love\n",
            " don\n"
          ],
          "name": "stdout"
        }
      ]
    },
    {
      "cell_type": "code",
      "metadata": {
        "id": "SPw4mIykoVAl",
        "colab": {
          "base_uri": "https://localhost:8080/"
        },
        "outputId": "7e77b833-358c-4907-ce22-cd94bfcd4947"
      },
      "source": [
        "C1= metrics.confusion_matrix(kmeans_labels,true_labels)\n",
        "print (C1)"
      ],
      "execution_count": null,
      "outputs": [
        {
          "output_type": "stream",
          "text": [
            "[[141   3   0]\n",
            " [ 31  63  65]\n",
            " [  0   3 127]]\n"
          ],
          "name": "stdout"
        }
      ]
    },
    {
      "cell_type": "code",
      "metadata": {
        "colab": {
          "base_uri": "https://localhost:8080/",
          "height": 286
        },
        "id": "b_DG5xIH5mJm",
        "outputId": "6409d505-46f8-464a-c09a-c22225cf9174"
      },
      "source": [
        "plt.pcolormesh(C1,cmap=plt.cm.Reds)"
      ],
      "execution_count": null,
      "outputs": [
        {
          "output_type": "execute_result",
          "data": {
            "text/plain": [
              "<matplotlib.collections.QuadMesh at 0x7fc1e181eba8>"
            ]
          },
          "metadata": {
            "tags": []
          },
          "execution_count": 33
        },
        {
          "output_type": "display_data",
          "data": {
            "image/png": "[encoded data removed]",
            "text/plain": [
              "<Figure size 432x288 with 1 Axes>"
            ]
          },
          "metadata": {
            "tags": [],
            "needs_background": "light"
          }
        }
      ]
    },
    {
      "cell_type": "code",
      "metadata": {
        "id": "p2vhkVSFbuH8",
        "colab": {
          "base_uri": "https://localhost:8080/"
        },
        "outputId": "5f3925e9-892e-4ef5-9a19-6832e66ae30b"
      },
      "source": [
        "p = metrics.precision_score(true_labels,kmeans_labels, average=None)\n",
        "print(p)\n",
        "r = metrics.recall_score(true_labels,kmeans_labels, average = None)\n",
        "print(r)"
      ],
      "execution_count": null,
      "outputs": [
        {
          "output_type": "stream",
          "text": [
            "[0.20143885 0.02040816 0.97278912]\n",
            "[0.1627907  0.04347826 0.74479167]\n"
          ],
          "name": "stdout"
        }
      ]
    },
    {
      "cell_type": "code",
      "metadata": {
        "id": "mrHgbwjLIQL8",
        "colab": {
          "base_uri": "https://localhost:8080/"
        },
        "outputId": "fc9b4cb5-dbc1-47fe-f206-613bd01754be"
      },
      "source": [
        "def cluster_class_mapping(kmeans_labels,true_labels):\n",
        "  C= metrics.confusion_matrix(kmeans_labels,true_labels)\n",
        "  mapping = list(np.argmax(C,axis=1)) #for each row (cluster) find the best␣,→class in the confusion matrix\n",
        "  mapped_kmeans_labels = [mapping[l] for l in kmeans_labels]\n",
        "  C2= metrics.confusion_matrix(mapped_kmeans_labels,true_labels)\n",
        "  return mapped_kmeans_labels,C2\n",
        "\n",
        "mapped_kmeans_labels,C = cluster_class_mapping(kmeans_labels, true_labels)\n",
        "print(C)\n"
      ],
      "execution_count": null,
      "outputs": [
        {
          "output_type": "stream",
          "text": [
            "[[144   3   0]\n",
            " [ 28  62  49]\n",
            " [  0   4 143]]\n"
          ],
          "name": "stdout"
        }
      ]
    },
    {
      "cell_type": "code",
      "metadata": {
        "id": "JxEl7P3cBpm8",
        "colab": {
          "base_uri": "https://localhost:8080/"
        },
        "outputId": "8652ff8d-6705-4878-c24e-5b5bdd2af91e"
      },
      "source": [
        "agglo = sk_cluster.AgglomerativeClustering(linkage = 'complete', n_clusters = 3)\n",
        "agglo_labels = agglo.fit_predict(X.toarray())\n",
        "C_agglo= metrics.confusion_matrix(agglo_labels,true_labels)\n",
        "print (C_agglo)\n",
        "\n",
        "\n",
        "mapped_agglo_labels,C_agglo = cluster_class_mapping(agglo_labels,true_labels)\n",
        "print(C_agglo)\n",
        "p = metrics.precision_score(true_labels,mapped_agglo_labels, average='weighted')\n",
        "print(p)\n",
        "r = metrics.recall_score(true_labels,mapped_agglo_labels, average = 'weighted')\n",
        "print(r)"
      ],
      "execution_count": null,
      "outputs": [
        {
          "output_type": "stream",
          "text": [
            "[[172  29  57]\n",
            " [  0  36   2]\n",
            " [  0   4 133]]\n",
            "[[172  29  57]\n",
            " [  0  36   2]\n",
            " [  0   4 133]]\n",
            "0.846256924487852\n",
            "0.7875288683602771\n"
          ],
          "name": "stdout"
        }
      ]
    },
    {
      "cell_type": "code",
      "metadata": {
        "colab": {
          "base_uri": "https://localhost:8080/"
        },
        "id": "Yd7CjAWG7XM6",
        "outputId": "3445539c-e78c-480d-a31c-c18e7266f98d"
      },
      "source": [
        "agglo = sk_cluster.AgglomerativeClustering(linkage = 'average', n_clusters = 3)\n",
        "agglo_labels = agglo.fit_predict(X.toarray())\n",
        "C_agglo= metrics.confusion_matrix(agglo_labels,true_labels)\n",
        "print (C_agglo)\n",
        "\n",
        "\n",
        "mapped_agglo_labels,C_agglo = cluster_class_mapping(agglo_labels,true_labels)\n",
        "print(C_agglo)\n",
        "p = metrics.precision_score(true_labels,mapped_agglo_labels, average='weighted')\n",
        "print(p)\n",
        "r = metrics.recall_score(true_labels,mapped_agglo_labels, average = 'weighted')\n",
        "print(r)"
      ],
      "execution_count": null,
      "outputs": [
        {
          "output_type": "stream",
          "text": [
            "[[172  68 191]\n",
            " [  0   1   0]\n",
            " [  0   0   1]]\n",
            "[[  0   0   0]\n",
            " [  0   1   0]\n",
            " [172  68 192]]\n",
            "0.3564280215550423\n",
            "0.4457274826789838\n"
          ],
          "name": "stdout"
        },
        {
          "output_type": "stream",
          "text": [
            "/usr/local/lib/python3.6/dist-packages/sklearn/metrics/_classification.py:1272: UndefinedMetricWarning: Precision is ill-defined and being set to 0.0 in labels with no predicted samples. Use `zero_division` parameter to control this behavior.\n",
            "  _warn_prf(average, modifier, msg_start, len(result))\n"
          ],
          "name": "stderr"
        }
      ]
    },
    {
      "cell_type": "code",
      "metadata": {
        "colab": {
          "base_uri": "https://localhost:8080/"
        },
        "id": "-CLy94hE63Ya",
        "outputId": "3313a530-5cea-428d-d1e2-8034fb1112f7"
      },
      "source": [
        "agglo = sk_cluster.AgglomerativeClustering(linkage = 'single', n_clusters = 3)\n",
        "agglo_labels = agglo.fit_predict(X.toarray())\n",
        "C_agglo= metrics.confusion_matrix(agglo_labels,true_labels)\n",
        "print (C_agglo)\n",
        "\n",
        "\n",
        "mapped_agglo_labels,C_agglo = cluster_class_mapping(agglo_labels,true_labels)\n",
        "print(C_agglo)\n",
        "p = metrics.precision_score(true_labels,mapped_agglo_labels, average='weighted')\n",
        "print(p)\n",
        "r = metrics.recall_score(true_labels,mapped_agglo_labels, average = 'weighted')\n",
        "print(r)"
      ],
      "execution_count": null,
      "outputs": [
        {
          "output_type": "stream",
          "text": [
            "[[172  69 190]\n",
            " [  0   0   1]\n",
            " [  0   0   1]]\n",
            "[[  0   0   0]\n",
            " [  0   0   0]\n",
            " [172  69 192]]\n",
            "0.19661953501272075\n",
            "0.44341801385681295\n"
          ],
          "name": "stdout"
        },
        {
          "output_type": "stream",
          "text": [
            "/usr/local/lib/python3.6/dist-packages/sklearn/metrics/_classification.py:1272: UndefinedMetricWarning: Precision is ill-defined and being set to 0.0 in labels with no predicted samples. Use `zero_division` parameter to control this behavior.\n",
            "  _warn_prf(average, modifier, msg_start, len(result))\n"
          ],
          "name": "stderr"
        }
      ]
    },
    {
      "cell_type": "code",
      "metadata": {
        "colab": {
          "base_uri": "https://localhost:8080/"
        },
        "id": "X6NxEOYX630X",
        "outputId": "41d41b06-3d61-4c9d-cd2e-1fc5e81750eb"
      },
      "source": [
        "agglo = sk_cluster.AgglomerativeClustering(linkage = 'ward', n_clusters = 3)\n",
        "agglo_labels = agglo.fit_predict(X.toarray())\n",
        "C_agglo= metrics.confusion_matrix(agglo_labels,true_labels)\n",
        "print (C_agglo)\n",
        "\n",
        "\n",
        "mapped_agglo_labels,C_agglo = cluster_class_mapping(agglo_labels,true_labels)\n",
        "print(C_agglo)\n",
        "p = metrics.precision_score(true_labels,mapped_agglo_labels, average='weighted')\n",
        "print(p)\n",
        "r = metrics.recall_score(true_labels,mapped_agglo_labels, average = 'weighted')\n",
        "print(r)"
      ],
      "execution_count": null,
      "outputs": [
        {
          "output_type": "stream",
          "text": [
            "[[ 34  45 190]\n",
            " [138   0   2]\n",
            " [  0  24   0]]\n",
            "[[138   0   2]\n",
            " [  0  24   0]\n",
            " [ 34  45 190]]\n",
            "0.8641021709988116\n",
            "0.812933025404157\n"
          ],
          "name": "stdout"
        }
      ]
    },
    {
      "cell_type": "markdown",
      "metadata": {
        "id": "6Ur-QJBEMYTE"
      },
      "source": [
        "# 2."
      ]
    },
    {
      "cell_type": "markdown",
      "metadata": {
        "id": "zbpkSsasarXD"
      },
      "source": [
        "Sihlouette score and plot"
      ]
    },
    {
      "cell_type": "code",
      "metadata": {
        "id": "uSQw81tSapJR",
        "colab": {
          "base_uri": "https://localhost:8080/",
          "height": 296
        },
        "outputId": "dfc70bed-8965-438e-a1d4-0d19cb52989f"
      },
      "source": [
        "%matplotlib inline\n",
        "from matplotlib import pyplot as plt\n",
        "\n",
        "error = np.zeros(11) # change\n",
        "sh_score = np.zeros(11) # change\n",
        "\n",
        "for k in range(1,11):\n",
        "  kmeans = sk_cluster.KMeans(init='k-means++', n_clusters=k, n_init=10)\n",
        "  kmeans.fit_predict(X)\n",
        "  error[k] = kmeans.inertia_\n",
        "  if k>1: sh_score[k]= metrics.silhouette_score(X, kmeans.labels_)\n",
        "\n",
        "plt.plot(range(1,len(error)),error[1:])\n",
        "plt.xlabel('Number of clusters')\n",
        "plt.ylabel('Error')"
      ],
      "execution_count": null,
      "outputs": [
        {
          "output_type": "execute_result",
          "data": {
            "text/plain": [
              "Text(0, 0.5, 'Error')"
            ]
          },
          "metadata": {
            "tags": []
          },
          "execution_count": 16
        },
        {
          "output_type": "display_data",
          "data": {
            "image/png": "[encoded data removed]",
            "text/plain": [
              "<Figure size 432x288 with 1 Axes>"
            ]
          },
          "metadata": {
            "tags": [],
            "needs_background": "light"
          }
        }
      ]
    },
    {
      "cell_type": "code",
      "metadata": {
        "id": "tI_USJJca6qi",
        "colab": {
          "base_uri": "https://localhost:8080/",
          "height": 296
        },
        "outputId": "3d31cd3a-659d-4ed0-9fe4-77f62a4885fc"
      },
      "source": [
        "plt.plot(range(2,len(sh_score)),sh_score[2:])\n",
        "plt.xlabel('Number of clusters')\n",
        "plt.ylabel('silhouette score')"
      ],
      "execution_count": null,
      "outputs": [
        {
          "output_type": "execute_result",
          "data": {
            "text/plain": [
              "Text(0, 0.5, 'silhouette score')"
            ]
          },
          "metadata": {
            "tags": []
          },
          "execution_count": 17
        },
        {
          "output_type": "display_data",
          "data": {
            "image/png": "[encoded data removed]",
            "text/plain": [
              "<Figure size 432x288 with 1 Axes>"
            ]
          },
          "metadata": {
            "tags": [],
            "needs_background": "light"
          }
        }
      ]
    },
    {
      "cell_type": "markdown",
      "metadata": {
        "id": "0Mwus9zvdLqA"
      },
      "source": [
        "\n",
        "The peaks of the graph indicates that the most preferable k nalues are 3 and 9, so i will use the k-means algorithm again for k=9 (n_clusters)."
      ]
    },
    {
      "cell_type": "code",
      "metadata": {
        "id": "sc_KCUvKdRmz",
        "colab": {
          "base_uri": "https://localhost:8080/"
        },
        "outputId": "ecf21c86-f82a-413c-ecc9-3b7879d4fc89"
      },
      "source": [
        "kmeans = sk_cluster.KMeans(init='k-means++', n_clusters=9, n_init=10)\n",
        "kmeans.fit_predict(X)\n",
        "centroids = kmeans.cluster_centers_\n",
        "kmeans_labels = kmeans.labels_\n",
        "error = kmeans.inertia_\n",
        "print (\"The total error of the clustering is: \", error)\n",
        "print ('\\nCluster labels')\n",
        "print(kmeans_labels)\n",
        "print ('\\n Cluster Centroids')\n",
        "print (centroids)\n"
      ],
      "execution_count": null,
      "outputs": [
        {
          "output_type": "stream",
          "text": [
            "The total error of the clustering is:  250.95784728801823\n",
            "\n",
            "Cluster labels\n",
            "[0 0 6 2 0 0 0 0 6 0 6 6 6 3 6 3 0 3 4 1 3 6 0 0 1 6 6 6 6 0 6 2 1 0 3 5 2\n",
            " 8 6 7 2 0 1 3 7 0 0 4 0 1 3 1 6 8 6 7 0 1 1 1 6 1 1 6 0 2 1 2 1 1 1 0 0 8\n",
            " 0 0 2 3 0 6 3 7 0 2 5 1 1 1 0 0 0 0 8 4 3 1 5 1 1 7 1 0 3 2 1 3 6 0 0 6 1\n",
            " 0 0 0 1 0 6 1 0 0 0 1 6 5 6 5 4 5 0 0 7 0 1 0 0 1 6 0 4 0 1 5 1 0 8 1 2 6\n",
            " 0 1 0 1 6 6 3 0 1 0 0 7 0 0 0 2 5 0 7 2 4 0 1 0 6 6 6 8 0 0 0 6 1 0 2 1 0\n",
            " 0 2 6 0 0 0 3 1 6 2 1 1 1 0 1 2 5 6 5 2 6 0 0 2 2 0 0 6 1 0 6 6 0 3 6 1 0\n",
            " 1 0 0 2 0 0 0 5 0 5 4 3 1 0 0 8 6 1 0 3 1 0 0 5 1 5 1 0 6 2 3 0 1 1 8 0 6\n",
            " 1 0 0 7 4 2 8 8 1 6 7 0 2 1 8 1 0 6 0 1 2 0 8 3 6 6 5 5 1 0 0 3 1 3 5 0 1\n",
            " 2 3 5 1 6 0 2 0 0 2 7 1 1 0 1 8 1 3 6 1 6 5 0 1 3 0 0 7 1 1 6 6 6 0 0 6 0\n",
            " 6 0 2 8 6 5 1 1 0 0 5 6 6 1 4 0 4 5 1 6 0 6 0 3 0 0 2 0 1 5 6 0 1 0 6 1 0\n",
            " 3 0 2 0 3 1 1 5 6 7 0 0 3 1 5 3 6 1 2 5 1 0 3 1 1 1 6 2 0 6 8 0 3 0 3 6 3\n",
            " 5 8 2 1 0 0 0 0 0 0 8 6 5 7 5 0 0 2 2 2 1 0 3 3 0 0]\n",
            "\n",
            " Cluster Centroids\n",
            "[[6.60913273e-03 3.71238982e-04 7.00761165e-04 ... 1.20848487e-03\n",
            "  1.27807520e-03 1.74901134e-05]\n",
            " [5.60276683e-04 2.14441985e-03 2.39851592e-04 ... 0.00000000e+00\n",
            "  0.00000000e+00 0.00000000e+00]\n",
            " [1.21817782e-03 0.00000000e+00 1.38001631e-04 ... 1.31925464e-03\n",
            "  3.80890464e-04 8.77520516e-04]\n",
            " ...\n",
            " [6.14911739e-03 9.32625993e-04 1.08603514e-03 ... 1.14599125e-03\n",
            "  9.54366692e-04 4.55640657e-03]\n",
            " [6.43501024e-04 0.00000000e+00 1.06387086e-03 ... 0.00000000e+00\n",
            "  0.00000000e+00 0.00000000e+00]\n",
            " [6.73995763e-03 3.10253771e-03 0.00000000e+00 ... 3.93675660e-03\n",
            "  4.62481816e-03 0.00000000e+00]]\n"
          ],
          "name": "stdout"
        }
      ]
    },
    {
      "cell_type": "markdown",
      "metadata": {
        "id": "dF0qYN6XZEHa"
      },
      "source": [
        "\n",
        "\n",
        "For k=9 the total error of the clustering is 250.95784728801823, which is smaller than the one with k=3, 274.6735793674228.\n",
        "It looks like the slgorithm makes better predictions for a larger number of clusters, even though there is a chance of \"overfitting\""
      ]
    },
    {
      "cell_type": "code",
      "metadata": {
        "id": "lh8ypcELdgwb",
        "colab": {
          "base_uri": "https://localhost:8080/"
        },
        "outputId": "a524c93e-ae48-4d7a-a94d-ec8102dfc41c"
      },
      "source": [
        "C= metrics.confusion_matrix(kmeans_labels, true_labels)\n",
        "print (C)"
      ],
      "execution_count": null,
      "outputs": [
        {
          "output_type": "stream",
          "text": [
            "[[  1  11 126   0   0   0   0   0   0]\n",
            " [ 28  18  41   0   0   0   0   0   0]\n",
            " [ 34   1   1   0   0   0   0   0   0]\n",
            " [  0  35   0   0   0   0   0   0   0]\n",
            " [  0   1   9   0   0   0   0   0   0]\n",
            " [ 25   2   2   0   0   0   0   0   0]\n",
            " [ 67   0   0   0   0   0   0   0   0]\n",
            " [  0   1  13   0   0   0   0   0   0]\n",
            " [ 17   0   0   0   0   0   0   0   0]]\n"
          ],
          "name": "stdout"
        }
      ]
    },
    {
      "cell_type": "code",
      "metadata": {
        "id": "H_Xa6_0TXpog",
        "colab": {
          "base_uri": "https://localhost:8080/",
          "height": 286
        },
        "outputId": "3ea61459-1785-4016-9269-c2c1f2174ae2"
      },
      "source": [
        "plt.pcolormesh(C,cmap=plt.cm.Reds)\n"
      ],
      "execution_count": null,
      "outputs": [
        {
          "output_type": "execute_result",
          "data": {
            "text/plain": [
              "<matplotlib.collections.QuadMesh at 0x7fc1e5011748>"
            ]
          },
          "metadata": {
            "tags": []
          },
          "execution_count": 20
        },
        {
          "output_type": "display_data",
          "data": {
            "image/png": "[encoded data removed]",
            "text/plain": [
              "<Figure size 432x288 with 1 Axes>"
            ]
          },
          "metadata": {
            "tags": [],
            "needs_background": "light"
          }
        }
      ]
    }
  ]
}